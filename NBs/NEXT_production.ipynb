{
 "cells": [
  {
   "cell_type": "code",
   "execution_count": 1,
   "metadata": {},
   "outputs": [],
   "source": [
    "import sys\n",
    "import glob\n",
    "import numpy  as np\n",
    "import tables as tb\n",
    "\n",
    "import matplotlib.pyplot as plt\n",
    "import warnings\n",
    "warnings.simplefilter(action='ignore', category=FutureWarning)\n",
    "\n",
    "# general IC imports\n",
    "from invisible_cities.core.configure         import configure\n",
    "from invisible_cities.database               import load_db\n",
    "from invisible_cities.core.system_of_units_c import units\n",
    "adc, pes, mus = units.adc, units.pes, units.mus\n",
    "NN = -999999\n",
    "\n",
    "# IRENE\n",
    "from invisible_cities.cities.components import deconv_pmt\n",
    "from invisible_cities.cities.components import calibrate_pmts\n",
    "from invisible_cities.cities.components import calibrate_sipms\n",
    "\n",
    "from invisible_cities.cities.components import deconv_pmt\n",
    "from invisible_cities.cities.components import calibrate_pmts\n",
    "from invisible_cities.cities.components import calibrate_sipms\n",
    "from invisible_cities.cities.components import zero_suppress_wfs\n",
    "\n",
    "from invisible_cities.reco.peak_functions import split_in_peaks\n",
    "from invisible_cities.reco.peak_functions import select_peaks\n",
    "from invisible_cities.reco.peak_functions import select_wfs_above_time_integrated_thr\n",
    "from invisible_cities.reco.peak_functions import pick_slice_and_rebin\n",
    "\n",
    "from invisible_cities.types.ic_types import minmax\n",
    "\n",
    "# PENTHESILEA\n",
    "from invisible_cities.reco.peak_functions import rebin_times_and_waveforms\n",
    "\n",
    "# ESMERALDA\n",
    "from invisible_cities.reco.corrections_new import read_maps\n",
    "from invisible_cities.reco.corrections_new import apply_all_correction\n",
    "from invisible_cities.reco.corrections_new import norm_strategy"
   ]
  },
  {
   "cell_type": "code",
   "execution_count": 2,
   "metadata": {},
   "outputs": [],
   "source": [
    "config = \"config.conf\"\n",
    "config = configure([\"script\", config]).as_namespace\n",
    "\n",
    "# config = configure(sys.argv).as_namespace"
   ]
  },
  {
   "cell_type": "code",
   "execution_count": 3,
   "metadata": {},
   "outputs": [],
   "source": [
    "# cut params\n",
    "s1emin = config.s1emin\n",
    "s1wmin = config.s1wmin\n",
    "\n",
    "nS1s = config.nS1s\n",
    "nS2s = config.nS2s\n",
    "\n",
    "pmt_ids = np.array( config.active_pmts )\n",
    "\n",
    "#IRENE params\n",
    "wf_dir     = config.wf_dir\n",
    "\n",
    "run_number = config.run_number\n",
    "run        = config.run\n",
    "n_baseline = config.n_baseline\n",
    "n_mau      = config.n_mau\n",
    "thr_mau    = config.thr_mau\n",
    "thr_csum_s1 = config.thr_csum_s1\n",
    "thr_csum_s2 = config.thr_csum_s2\n",
    "thr_sipm      = config.thr_sipm\n",
    "thr_sipm_type = config.thr_sipm_type\n",
    "s1_tmin         = config.s1_tmin\n",
    "s1_tmax         = config.s1_tmax\n",
    "s1_stride       = config.s1_stride\n",
    "s1_lmin         = config.s1_lmin\n",
    "s1_lmax         = config.s1_lmax\n",
    "s1_rebin_stride = config.s1_rebin_stride\n",
    "s2_tmin         = config.s2_tmin\n",
    "s2_tmax         = config.s2_tmax\n",
    "s2_stride       = config.s2_stride\n",
    "s2_lmin         = config.s2_lmin\n",
    "s2_lmax         = config.s2_lmax\n",
    "s2_rebin_stride = config.s2_rebin_stride\n",
    "thr_sipm_s2 = config.thr_csum_s2\n",
    "detector_db = config.detector_db\n",
    "\n",
    "#Penthesilea\n",
    "qth_penth = config.qth_penth\n",
    "rebin     = config.rebin\n",
    "\n",
    "#Esmeralda\n",
    "qth_esmer  = config.qth_esmer\n",
    "map_file   = config.map_file\n",
    "apply_temp = config.apply_temp\n",
    "\n",
    "if thr_sipm_type.lower() == \"common\": \n",
    "    sipm_thr = thr_sipm"
   ]
  },
  {
   "cell_type": "code",
   "execution_count": 4,
   "metadata": {},
   "outputs": [],
   "source": [
    "def signals_selected_splits(s1_indices, s2_indices,\n",
    "                            s1_stride , s2_stride ,\n",
    "                            s1_tmin, s1_tmax, s1_lmin, s1_lmax,\n",
    "                            s2_tmin, s2_tmax, s2_lmin, s2_lmax):\n",
    "\n",
    "    indices_split   = split_in_peaks(s1_indices, s1_stride)\n",
    "    s1_selected_splits = select_peaks  (indices_split, \n",
    "                                        minmax(min = s1_tmin, max = s1_tmax), \n",
    "                                        minmax(min = s1_lmin, max = s1_lmax))\n",
    "\n",
    "    indices_split   = split_in_peaks(s2_indices, s2_stride)\n",
    "    s2_selected_splits = select_peaks  (indices_split, \n",
    "                                        minmax(min = s2_tmin, max = s2_tmax), \n",
    "                                        minmax(min = s2_lmin, max = s2_lmax))\n",
    "    \n",
    "    return s1_selected_splits, s2_selected_splits"
   ]
  },
  {
   "cell_type": "code",
   "execution_count": 5,
   "metadata": {},
   "outputs": [],
   "source": [
    "def _1s1_1s2(pmt_ccwfs, s2_selected_splits, s1_selected_splits,\n",
    "             s1emin   , s1wmin):\n",
    "    ######## 1S1 1S2 CUT #########\n",
    "    # 1S1 cut\n",
    "    if len(s1_selected_splits)==0:\n",
    "        return None\n",
    "    # 1S2 cut\n",
    "    if len(s2_selected_splits)>nS1s:\n",
    "        return None\n",
    "        \n",
    "    # S1 energy and width cut\n",
    "    s1es, s1ws = [], []\n",
    "    for ss in s1_selected_splits:\n",
    "        s1_pmt = np.sum( pmt_ccwfs[:, ss[0]: ss[-1]], axis=0)\n",
    "        s1es.append( np.sum(s1_pmt)    )\n",
    "        s1ws.append( (ss[-1]-ss[0])*25 )\n",
    "    s1es, s1ws = np.array(s1es), np.array(s1ws)\n",
    "\n",
    "    sel = (s1es>=s1emin) & (s1ws>=s1wmin)\n",
    "    idxs = np.argwhere(sel).flatten()\n",
    "\n",
    "    if len(idxs)==0:\n",
    "        return None\n",
    "    elif len(idxs)>1:\n",
    "        return None\n",
    "    else:\n",
    "        idx = idxs[0]\n",
    "        s1_pmt = np.sum( pmt_ccwfs[:, s1_selected_splits[idx][0]: s1_selected_splits[idx][-1]], axis=0)\n",
    "        times  = np.arange(s1_selected_splits[idx][0], s1_selected_splits[idx][-1])*25\n",
    "\n",
    "        S1_time = times[np.argmax(s1_pmt)]\n",
    "        return S1_time"
   ]
  },
  {
   "cell_type": "code",
   "execution_count": 6,
   "metadata": {},
   "outputs": [],
   "source": [
    "def create_penthesilea_hits(s2_pmts_penth, s2_sipms_penth,\n",
    "                            sipms_xs     , sipms_ys      , sipm_ids,\n",
    "                            times        , S1_time):\n",
    "    ###### create penthesilea hits ########\n",
    "    n_sipms = len(sipm_ids)\n",
    "    X, Y = sipm_xs[sipm_ids], sipm_ys[sipm_ids]\n",
    "    T = (times - S1_time)/1000\n",
    "\n",
    "    E_per_slice = np.sum( s2_pmts_penth, axis=0)\n",
    "    hits    = []\n",
    "    nn_hits = []\n",
    "    for t, e, q in zip(T, E_per_slice, s2_sipms_penth.T):\n",
    "        if np.sum(q)==0:\n",
    "            nn_hits.append( (0, 0, t, e, NN, -1) )\n",
    "        else:\n",
    "            E = e * q / np.sum(q)\n",
    "            hits.append( (X, Y, np.full( n_sipms, t), E, q, np.full( n_sipms, -1) ) )\n",
    "    hits = np.array( hits )\n",
    "    hits = np.swapaxes(hits, axis1=1, axis2=2)\n",
    "    hits = np.concatenate( hits )\n",
    "    H = np.array(np.zeros(np.shape(hits)[0]), \n",
    "                 dtype=[(\"X\", int)  , (\"Y\", int)  , (\"Z\", float), \n",
    "                        (\"E\", float), (\"Q\", float), (\"Ec\",float)])\n",
    "    H[\"X\"], H[\"Y\"], H[\"Z\"]  = hits[:, 0], hits[:, 1], hits[:, 2]\n",
    "    H[\"E\"], H[\"Q\"], H[\"Ec\"] = hits[:, 3], hits[:, 4], -1\n",
    "    \n",
    "    #### remove 0 charge hits and insert NN ####\n",
    "    sel = ~(H[\"Q\"]==0)\n",
    "    H = np.insert( H[sel], 0, nn_hits)\n",
    "    H = np.sort( H, order=\"Z\")\n",
    "    hits = H\n",
    "    \n",
    "    return hits"
   ]
  },
  {
   "cell_type": "code",
   "execution_count": 7,
   "metadata": {},
   "outputs": [],
   "source": [
    "def esmeralda_charge_cut(hits, qth_esmer):\n",
    "    #### Charge cut ####\n",
    "    sel = (hits[\"Q\"]>=qth_esmer)\n",
    "    hits[\"Q\"][~sel] = 0\n",
    "\n",
    "    slides = np.unique( hits[\"Z\"] )\n",
    "    for slide in slides:\n",
    "        sel = (hits[\"Z\"]==slide)\n",
    "        slide_hits = hits[sel]\n",
    "        q = slide_hits[\"Q\"]\n",
    "        e = slide_hits[\"E\"]\n",
    "        if np.sum( q ) == 0:\n",
    "            idxs = np.argwhere(sel).flatten()\n",
    "            hits = np.delete(hits, idxs)\n",
    "            hits = np.insert(hits, 0, (0, 0, slide, np.sum(e), NN, -1))\n",
    "        else:\n",
    "            hits[\"E\"][sel] = np.sum( e ) * q / np.sum(q)\n",
    "    sel = (hits[\"Q\"]==0)\n",
    "    hits = np.delete( hits, np.argwhere(sel))\n",
    "    hits = np.sort(hits, order=\"Z\")\n",
    "    return hits"
   ]
  },
  {
   "cell_type": "code",
   "execution_count": 8,
   "metadata": {},
   "outputs": [],
   "source": [
    "def join_NN_hits(hits):\n",
    "    \n",
    "    ###### join NN hits ######\n",
    "    sel = (hits[\"Q\"]==NN)\n",
    "    nn_hits = hits[ sel]\n",
    "    hits    = hits[~sel]\n",
    "    slides = np.unique( hits[\"Z\"] )\n",
    "    for nn_hit in nn_hits:\n",
    "        #select slide to append\n",
    "        d = np.abs( slides - nn_hit[\"Z\"] ) \n",
    "        slide = slides[ np.argmin( d ) ]\n",
    "        slide_hits = hits[hits[\"Z\"]==slide]\n",
    "        #new energy \n",
    "        new_E = np.sum(slide_hits[\"E\"]) + nn_hit[\"E\"]\n",
    "        q = hits[hits[\"Z\"]==slide][\"Q\"]\n",
    "        Q = np.sum( q )\n",
    "        hits[\"E\"][hits[\"Z\"] == slide] = new_E * q / Q\n",
    "    \n",
    "    return hits"
   ]
  },
  {
   "cell_type": "code",
   "execution_count": null,
   "metadata": {},
   "outputs": [],
   "source": []
  },
  {
   "cell_type": "code",
   "execution_count": null,
   "metadata": {},
   "outputs": [],
   "source": []
  },
  {
   "cell_type": "code",
   "execution_count": null,
   "metadata": {},
   "outputs": [],
   "source": []
  },
  {
   "cell_type": "code",
   "execution_count": null,
   "metadata": {},
   "outputs": [],
   "source": []
  },
  {
   "cell_type": "code",
   "execution_count": 9,
   "metadata": {},
   "outputs": [],
   "source": [
    "# FILE OUT\n",
    "outdir = \"./\"\n",
    "\n",
    "h5file = tb.open_file(outdir + \"/\" + f\"_{run}_thrsipms2_{int(thr_sipm_s2)}_thrsipm_{int(thr_sipm)}.h5\", \n",
    "                      mode=\"w\", title=\"DE RWF data\")\n",
    "\n",
    "group = h5file.create_group(\"/\", \"Summary\", \"Summary\")\n",
    "h5file.create_earray(group, \"Z\" , tb.Float64Atom(), shape=(0, ))\n",
    "h5file.create_earray(group, \"DZ\", tb.Float64Atom(), shape=(0, ))\n",
    "h5file.create_earray(group, \"E\" , tb.Float64Atom(), shape=(0, ))\n",
    "h5file.create_earray(group, \"Q\" , tb.Float64Atom(), shape=(0, ))\n",
    "h5file.create_earray(group, \"Ec\", tb.Float64Atom(), shape=(0, ))\n",
    "\n",
    "group  = h5file.create_group(\"/\", f\"Event_Info\", \"Info\")\n",
    "\n",
    "class Event_Info(tb.IsDescription):\n",
    "    event = tb.Int32Col()\n",
    "    time  = tb.UInt64Col()\n",
    "    \n",
    "Event_Info_table = h5file.create_table(group, \"Event_Time\", Event_Info, \"Event_Time\")\n",
    "EI = Event_Info_table.row"
   ]
  },
  {
   "cell_type": "code",
   "execution_count": null,
   "metadata": {},
   "outputs": [],
   "source": []
  },
  {
   "cell_type": "code",
   "execution_count": null,
   "metadata": {},
   "outputs": [],
   "source": []
  },
  {
   "cell_type": "code",
   "execution_count": 10,
   "metadata": {},
   "outputs": [],
   "source": [
    "files_in = glob.glob( wf_dir + \"/*\" )\n",
    "files_in.sort()"
   ]
  },
  {
   "cell_type": "code",
   "execution_count": null,
   "metadata": {},
   "outputs": [],
   "source": []
  },
  {
   "cell_type": "code",
   "execution_count": 11,
   "metadata": {},
   "outputs": [],
   "source": [
    "datasipm = load_db.DataSiPM(\"new\", run)\n",
    "sipm_xs  = datasipm.X.values\n",
    "sipm_ys  = datasipm.Y.values\n",
    "\n",
    "maps = read_maps( map_file )\n",
    "total_correction = apply_all_correction(maps, apply_temp=apply_temp,\n",
    "                                        norm_strat=norm_strategy.kr)"
   ]
  },
  {
   "cell_type": "code",
   "execution_count": 12,
   "metadata": {},
   "outputs": [
    {
     "name": "stdout",
     "output_type": "stream",
     "text": [
      "/home/gdiaz/Verify_IRENENB_corrections/DATA/7430/rwf/run_7430_0000_trigger2_waveforms.h5\n",
      "/home/gdiaz/Verify_IRENENB_corrections/DATA/7430/rwf/run_7430_0001_trigger2_waveforms.h5\n",
      "Exec time 0.9057970523834229\n"
     ]
    }
   ],
   "source": [
    "import time\n",
    "t0 = time.time()\n",
    "\n",
    "_Z, _DZ, _E, _Q, _Ec = [], [], [], [], []\n",
    "\n",
    "for file in files_in[0:2]:\n",
    "    \n",
    "    print( file )\n",
    "    \n",
    "    RWFs_file = tb.open_file( file )\n",
    "    pmt_rwfs_all  = RWFs_file.root.RD.pmtrwf\n",
    "    sipm_rwfs_all = RWFs_file.root.RD.sipmrwf\n",
    "    time_stamps   = RWFs_file.root.Run.events.read()\n",
    "    \n",
    "    for event_time, pmt_rwfs, sipm_rwfs in zip(time_stamps, pmt_rwfs_all, sipm_rwfs_all):\n",
    "        \n",
    "        ################################\n",
    "        ############ IRENE #############\n",
    "        ################################\n",
    "        \n",
    "        #pmt processing\n",
    "        rwf_to_cwf  = deconv_pmt    (detector_db, run_number, n_baseline)\n",
    "        pmt_cwfs    = rwf_to_cwf    (pmt_rwfs)\n",
    "        cwf_to_ccwf = calibrate_pmts(detector_db, run_number, n_mau, thr_mau)\n",
    "        pmt_ccwfs, ccwfs_mau, cwf_sum, cwf_sum_mau  = cwf_to_ccwf(pmt_cwfs)\n",
    "        #select pmt_ids wfs\n",
    "        c = np.zeros(pmt_ccwfs.shape[0])\n",
    "        c[pmt_ids] = 1\n",
    "        pmt_ccwfs  = np.multiply( c, pmt_ccwfs.T ).T\n",
    "        \n",
    "        #sipm processing\n",
    "        sipm_rwf_to_cal = calibrate_sipms(detector_db, run_number, sipm_thr)\n",
    "        sipm_cwfs = sipm_rwf_to_cal(sipm_rwfs)\n",
    "        \n",
    "        \n",
    "        #Find signals\n",
    "        zero_suppress = zero_suppress_wfs(thr_csum_s1, thr_csum_s2)\n",
    "        s1_indices, s2_indices = zero_suppress(cwf_sum, cwf_sum_mau)\n",
    "    \n",
    "        s1_selected_splits,\\\n",
    "        s2_selected_splits = signals_selected_splits(s1_indices, s2_indices,\n",
    "                                                     s1_stride , s2_stride ,\n",
    "                                                     s1_tmin, s1_tmax, s1_lmin, s1_lmax,\n",
    "                                                     s2_tmin, s2_tmax, s2_lmin, s2_lmax)\n",
    "        \n",
    "        ######## 1S1 1S2 CUT ##########\n",
    "        S1_time = _1s1_1s2(pmt_ccwfs, s2_selected_splits, s1_selected_splits,\n",
    "                           s1emin   , s1wmin)\n",
    "        if not S1_time: continue\n",
    "        \n",
    "        \n",
    "        # Rebin S2_pmts\n",
    "        times, rebinned_widths, s2_pmts = pick_slice_and_rebin(s2_selected_splits[0], \n",
    "                                                               np.arange(pmt_ccwfs.shape[1]) * 25 * units.ns, \n",
    "                                                               np.full  (pmt_ccwfs.shape[1],   25 * units.ns),\n",
    "                                                               pmt_ccwfs, \n",
    "                                                               rebin_stride = s2_rebin_stride, \n",
    "                                                               pad_zeros    = True)\n",
    "        #select and thr_sipm_s2\n",
    "        s2_sipms = sipm_cwfs[:, s2_selected_splits[0][0] //40 : s2_selected_splits[0][-1]//40 + 1]\n",
    "        sipm_ids, s2_sipms = select_wfs_above_time_integrated_thr(s2_sipms, thr_sipm_s2)\n",
    "        \n",
    "        ######## IRENE FINAL S2 WFS #######\n",
    "        s2_pmts  = np.float32( s2_pmts )\n",
    "        s2_sipms = np.float32( s2_sipms)\n",
    "        times    = np.float32( times   )\n",
    "        \n",
    "        \n",
    "        ################################\n",
    "        ######## PENTHESILEA ###########\n",
    "        ################################\n",
    "        \n",
    "        ########## Rebin ############\n",
    "        _,     _, s2_sipms = rebin_times_and_waveforms(times, rebinned_widths, s2_sipms,\n",
    "                                                       rebin_stride=rebin, slices=None)\n",
    "        times, _, s2_pmts  = rebin_times_and_waveforms(times, rebinned_widths, s2_pmts,\n",
    "                                                       rebin_stride=rebin, slices=None)\n",
    "        ######### Charge cut #########\n",
    "        s2_pmts_penth  = np.copy( s2_pmts )\n",
    "        s2_sipms_penth = np.where(s2_sipms >= qth_penth, s2_sipms, 0)\n",
    "        \n",
    "        ###### create penthesilea hits ########\n",
    "        hits = create_penthesilea_hits(s2_pmts_penth, s2_sipms_penth,\n",
    "                                       sipm_xs      , sipm_ys       , sipm_ids,\n",
    "                                       times        , S1_time)\n",
    "    \n",
    "        \n",
    "        ################################\n",
    "        ######### ESMERALDA ############\n",
    "        ################################\n",
    "        \n",
    "        #### Charge cut ####\n",
    "        hits = esmeralda_charge_cut(hits, qth_esmer)\n",
    "        \n",
    "        ###### join NN hits ######\n",
    "        hits = join_NN_hits(hits)\n",
    "            \n",
    "        #### Corrections ######\n",
    "        X, Y, Z = hits[\"X\"], hits[\"Y\"], hits[\"Z\"]\n",
    "        E, Q    = hits[\"E\"], hits[\"Q\"]\n",
    "        T = np.full(len(hits), event_time[-1]/1000)\n",
    "        correction_factor = total_correction(X, Y, Z, T)\n",
    "        Ec = correction_factor * E\n",
    "        hits[\"Ec\"] = Ec\n",
    "        hits[\"Z\"]  = Z * maps.t_evol.dv.mean()\n",
    "        \n",
    "        \n",
    "        ###########################\n",
    "        ####### APPEND DATA #######\n",
    "        ###########################\n",
    "        # Event Info\n",
    "        EI[\"event\"] = event_time[0] \n",
    "        EI[\"time\"]  = event_time[1]\n",
    "        EI.append()\n",
    "        \n",
    "        ## Z, DZ, E, Q, Ec\n",
    "        Z, E, Q, Ec = hits[\"Z\"], hits[\"E\"], hits[\"Q\"], hits[\"Ec\"]\n",
    "        Ec[ np.isnan(Ec) ] = 0\n",
    "        \n",
    "        _Z .append( np.sum( Ec * Z) / np.sum(Ec) )\n",
    "        _DZ.append( np.max(Z) - np.min(Z) )\n",
    "        _E .append( np.sum(E)  )\n",
    "        _Q .append( np.sum(Q)  )\n",
    "        _Ec.append( np.sum(Ec) )\n",
    "        \n",
    "    # close RWF file\n",
    "    RWFs_file.close()\n",
    "\n",
    "h5file.root.Summary.Z .append( _Z  )\n",
    "h5file.root.Summary.DZ.append( _DZ )\n",
    "h5file.root.Summary.E .append( _E  )\n",
    "h5file.root.Summary.Q .append( _Q  )\n",
    "h5file.root.Summary.Ec.append( _Ec )\n",
    "\n",
    "#write to disk\n",
    "h5file.flush()\n",
    "h5file.close()\n",
    "\n",
    "print(\"Exec time\", (time.time() - t0)/60)"
   ]
  },
  {
   "cell_type": "code",
   "execution_count": null,
   "metadata": {},
   "outputs": [],
   "source": []
  },
  {
   "cell_type": "code",
   "execution_count": null,
   "metadata": {},
   "outputs": [],
   "source": []
  },
  {
   "cell_type": "code",
   "execution_count": 14,
   "metadata": {},
   "outputs": [],
   "source": [
    "h5file = tb.open_file(f\"_{run}_thrsipms2_{int(thr_sipm_s2)}_thrsipm_{int(thr_sipm)}.h5\")"
   ]
  },
  {
   "cell_type": "code",
   "execution_count": 15,
   "metadata": {},
   "outputs": [],
   "source": [
    "events = h5file.root.Event_Info.Event_Time.read()[\"event\"]"
   ]
  },
  {
   "cell_type": "code",
   "execution_count": 16,
   "metadata": {},
   "outputs": [],
   "source": [
    "re  = np.random.choice( events )\n",
    "idx = np.argwhere( events == re ).flatten()"
   ]
  },
  {
   "cell_type": "code",
   "execution_count": 17,
   "metadata": {},
   "outputs": [
    {
     "data": {
      "text/plain": [
       "array([1.34305247])"
      ]
     },
     "execution_count": 17,
     "metadata": {},
     "output_type": "execute_result"
    }
   ],
   "source": [
    "h5file.root.Summary.Ec.read()[idx]"
   ]
  },
  {
   "cell_type": "code",
   "execution_count": 18,
   "metadata": {},
   "outputs": [
    {
     "data": {
      "text/plain": [
       "array([291122.01384711])"
      ]
     },
     "execution_count": 18,
     "metadata": {},
     "output_type": "execute_result"
    }
   ],
   "source": [
    "h5file.root.Summary.E.read()[idx]"
   ]
  },
  {
   "cell_type": "code",
   "execution_count": 19,
   "metadata": {},
   "outputs": [
    {
     "data": {
      "text/plain": [
       "array([43.33117034])"
      ]
     },
     "execution_count": 19,
     "metadata": {},
     "output_type": "execute_result"
    }
   ],
   "source": [
    "h5file.root.Summary.DZ.read()[idx]"
   ]
  },
  {
   "cell_type": "code",
   "execution_count": null,
   "metadata": {},
   "outputs": [],
   "source": []
  },
  {
   "cell_type": "markdown",
   "metadata": {},
   "source": [
    "# CDSTs from production"
   ]
  },
  {
   "cell_type": "code",
   "execution_count": 20,
   "metadata": {},
   "outputs": [],
   "source": [
    "datadir = f\"/home/gdiaz/Verify_IRENENB_corrections/DATA/{run}/cdst/\"\n",
    "\n",
    "files = glob.glob( datadir + \"/*\")\n",
    "files.sort()\n",
    "\n",
    "h5file = tb.open_file( files[0] )"
   ]
  },
  {
   "cell_type": "code",
   "execution_count": 21,
   "metadata": {},
   "outputs": [],
   "source": [
    "# event_time = h5file.root.Run.events.read()\n",
    "\n",
    "#chits   = h5file.root.CHITS.lowTh.read()\n",
    "chits_hTh   = h5file.root.CHITS.highTh.read()\n",
    "\n",
    "#tracks  = h5file.root.Tracking.Tracks.read()\n",
    "dst     = h5file.root.DST    .Events.read()\n",
    "summary = h5file.root.Summary.Events.read()"
   ]
  },
  {
   "cell_type": "code",
   "execution_count": 22,
   "metadata": {},
   "outputs": [],
   "source": [
    "chits = np.sort( chits_hTh[chits_hTh[\"event\"]==re], order=\"Z\")"
   ]
  },
  {
   "cell_type": "code",
   "execution_count": null,
   "metadata": {},
   "outputs": [],
   "source": []
  },
  {
   "cell_type": "code",
   "execution_count": 23,
   "metadata": {},
   "outputs": [
    {
     "data": {
      "text/plain": [
       "291122.01384711266"
      ]
     },
     "execution_count": 23,
     "metadata": {},
     "output_type": "execute_result"
    }
   ],
   "source": [
    "np.sum( chits[\"E\"] )"
   ]
  },
  {
   "cell_type": "code",
   "execution_count": 26,
   "metadata": {},
   "outputs": [
    {
     "data": {
      "text/plain": [
       "1.3430524687452845"
      ]
     },
     "execution_count": 26,
     "metadata": {},
     "output_type": "execute_result"
    }
   ],
   "source": [
    "np.sum( chits[\"Ec\"][~np.isnan( chits[\"Ec\"] ) ] )"
   ]
  },
  {
   "cell_type": "code",
   "execution_count": 25,
   "metadata": {},
   "outputs": [
    {
     "data": {
      "text/plain": [
       "43.33117033782332"
      ]
     },
     "execution_count": 25,
     "metadata": {},
     "output_type": "execute_result"
    }
   ],
   "source": [
    "np.max(chits[\"Z\"]) - np.min( chits[\"Z\"] )"
   ]
  },
  {
   "cell_type": "code",
   "execution_count": null,
   "metadata": {},
   "outputs": [],
   "source": []
  },
  {
   "cell_type": "code",
   "execution_count": null,
   "metadata": {},
   "outputs": [],
   "source": []
  },
  {
   "cell_type": "code",
   "execution_count": null,
   "metadata": {},
   "outputs": [],
   "source": []
  },
  {
   "cell_type": "code",
   "execution_count": null,
   "metadata": {},
   "outputs": [],
   "source": []
  },
  {
   "cell_type": "code",
   "execution_count": null,
   "metadata": {},
   "outputs": [],
   "source": []
  },
  {
   "cell_type": "code",
   "execution_count": null,
   "metadata": {},
   "outputs": [],
   "source": []
  }
 ],
 "metadata": {
  "kernelspec": {
   "display_name": "Python 3",
   "language": "python",
   "name": "python3"
  },
  "language_info": {
   "codemirror_mode": {
    "name": "ipython",
    "version": 3
   },
   "file_extension": ".py",
   "mimetype": "text/x-python",
   "name": "python",
   "nbconvert_exporter": "python",
   "pygments_lexer": "ipython3",
   "version": "3.7.4"
  }
 },
 "nbformat": 4,
 "nbformat_minor": 2
}
