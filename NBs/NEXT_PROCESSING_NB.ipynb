{
 "cells": [
  {
   "cell_type": "code",
   "execution_count": 1,
   "metadata": {},
   "outputs": [],
   "source": [
    "import glob\n",
    "import numpy  as np\n",
    "import tables as tb\n",
    "\n",
    "import matplotlib.pyplot as plt\n",
    "import warnings\n",
    "warnings.simplefilter(action='ignore', category=FutureWarning)\n",
    "\n",
    "# general IC imports\n",
    "from invisible_cities.database          import load_db\n",
    "from invisible_cities.core.system_of_units_c import units\n",
    "adc, pes, mus = units.adc, units.pes, units.mus\n",
    "NN = -999999\n",
    "\n",
    "# IRENE\n",
    "from invisible_cities.cities.components import deconv_pmt\n",
    "from invisible_cities.cities.components import calibrate_pmts\n",
    "from invisible_cities.cities.components import calibrate_sipms\n",
    "\n",
    "from invisible_cities.cities.components import deconv_pmt\n",
    "from invisible_cities.cities.components import calibrate_pmts\n",
    "from invisible_cities.cities.components import calibrate_sipms\n",
    "from invisible_cities.cities.components import zero_suppress_wfs\n",
    "\n",
    "from invisible_cities.reco.peak_functions import split_in_peaks\n",
    "from invisible_cities.reco.peak_functions import select_peaks\n",
    "from invisible_cities.reco.peak_functions import select_wfs_above_time_integrated_thr\n",
    "from invisible_cities.reco.peak_functions import pick_slice_and_rebin\n",
    "\n",
    "from invisible_cities.types.ic_types import minmax\n",
    "\n",
    "# PENTHESILEA\n",
    "from invisible_cities.reco.peak_functions import rebin_times_and_waveforms\n",
    "\n",
    "# ESMERALDA\n",
    "from invisible_cities.reco.corrections_new import read_maps\n",
    "from invisible_cities.reco.corrections_new import apply_all_correction\n",
    "from invisible_cities.reco.corrections_new import norm_strategy"
   ]
  },
  {
   "cell_type": "markdown",
   "metadata": {},
   "source": [
    "## General cut parameters"
   ]
  },
  {
   "cell_type": "code",
   "execution_count": 2,
   "metadata": {},
   "outputs": [],
   "source": [
    "# S1 selection\n",
    "s1emin = 40\n",
    "s1wmin = 175\n",
    "\n",
    "pmt_ids = [0, 1, 2, 3, 4, 5, 6, 7, 8, 9, 10, 11]"
   ]
  },
  {
   "cell_type": "markdown",
   "metadata": {},
   "source": [
    "## Import raw waveforms"
   ]
  },
  {
   "cell_type": "code",
   "execution_count": 3,
   "metadata": {},
   "outputs": [],
   "source": [
    "run = 7430\n",
    "wfs_dir        = f\"/home/gdiaz/Verify_IRENENB_corrections/DATA/{run}/rwf/\"\n",
    "wfs_files = glob.glob( wfs_dir + \"/*\" )\n",
    "wfs_files.sort()"
   ]
  },
  {
   "cell_type": "markdown",
   "metadata": {},
   "source": [
    "# IRENE"
   ]
  },
  {
   "cell_type": "markdown",
   "metadata": {},
   "source": [
    "## Configuration Parameters"
   ]
  },
  {
   "cell_type": "code",
   "execution_count": 4,
   "metadata": {},
   "outputs": [],
   "source": [
    "files_in  = wfs_files\n",
    "file_out  = \"\"\n",
    "\n",
    "run = 7430\n",
    "n_baseline = 62400 \n",
    "\n",
    "n_mau   = 100\n",
    "thr_mau =   3 * adc\n",
    "\n",
    "thr_csum_s1 = 0.5 * pes\n",
    "thr_csum_s2 = 2.0 * pes\n",
    "\n",
    "thr_sipm   = 1.0 * pes    \n",
    "thr_sipm_type = \"Common\"\n",
    "\n",
    "s1_tmin   =   0 * mus \n",
    "s1_tmax   = 790 * mus \n",
    "s1_stride =   4       \n",
    "s1_lmin   =   5       \n",
    "s1_lmax   =  30      \n",
    "s1_rebin_stride = 1\n",
    "\n",
    "s2_tmin   =      0 * mus \n",
    "s2_tmax   =   1601 * mus \n",
    "s2_stride =     40      \n",
    "s2_lmin   =     80       \n",
    "s2_lmax   = 200000       \n",
    "s2_rebin_stride = 40   \n",
    "\n",
    "thr_sipm_s2 = 5 * pes  \n",
    "\n",
    "detector_db = \"new\" ## Added by me\n",
    "\n",
    "if thr_sipm_type.lower() == \"common\": \n",
    "    sipm_thr = thr_sipm"
   ]
  },
  {
   "cell_type": "markdown",
   "metadata": {},
   "source": [
    "### Select file and waveform"
   ]
  },
  {
   "cell_type": "code",
   "execution_count": 5,
   "metadata": {},
   "outputs": [],
   "source": [
    "file_number = 0\n",
    "\n",
    "RWFs_file = tb.open_file(files_in[file_number])\n",
    "pmt_rwfs_all  = RWFs_file.root.RD.pmtrwf\n",
    "sipm_rwfs_all = RWFs_file.root.RD.sipmrwf\n",
    "time_stamps   = RWFs_file.root.Run.events\n",
    "\n",
    "#select random waveform\n",
    "i = int( np.random.random()* (len(time_stamps) - 1) )\n",
    "event_time = time_stamps[i]\n",
    "\n",
    "\n",
    "pmt_rwfs  = pmt_rwfs_all [i]\n",
    "sipm_rwfs = sipm_rwfs_all[i]\n",
    "\n",
    "RWFs_file.close()"
   ]
  },
  {
   "cell_type": "markdown",
   "metadata": {},
   "source": [
    "### Sensors processing"
   ]
  },
  {
   "cell_type": "code",
   "execution_count": 6,
   "metadata": {},
   "outputs": [],
   "source": [
    "rwf_to_cwf = deconv_pmt    (detector_db, run, n_baseline)\n",
    "pmt_cwfs   = rwf_to_cwf    (pmt_rwfs)\n",
    "cwf_to_ccwf = calibrate_pmts(detector_db, run, n_mau, thr_mau)\n",
    "pmt_ccwfs, ccwfs_mau, cwf_sum, cwf_sum_mau  = cwf_to_ccwf    (pmt_cwfs)\n",
    "\n",
    "sipm_rwf_to_cal = calibrate_sipms(detector_db, run, sipm_thr)\n",
    "sipm_cwfs = sipm_rwf_to_cal(sipm_rwfs)"
   ]
  },
  {
   "cell_type": "code",
   "execution_count": 7,
   "metadata": {},
   "outputs": [
    {
     "data": {
      "text/plain": [
       "<matplotlib.collections.PathCollection at 0x7f670a5d3c10>"
      ]
     },
     "execution_count": 7,
     "metadata": {},
     "output_type": "execute_result"
    },
    {
     "data": {
      "image/png": "[encoded data removed]",
      "text/plain": [
       "<Figure size 432x288 with 1 Axes>"
      ]
     },
     "metadata": {
      "needs_background": "light"
     },
     "output_type": "display_data"
    }
   ],
   "source": [
    "times = np.arange(sipm_cwfs.shape[1])\n",
    "plt.scatter(times, np.sum( sipm_cwfs, axis=0), color=\"black\", s=5 )"
   ]
  },
  {
   "cell_type": "code",
   "execution_count": 8,
   "metadata": {},
   "outputs": [
    {
     "data": {
      "image/png": "[encoded data removed]",
      "text/plain": [
       "<Figure size 432x288 with 1 Axes>"
      ]
     },
     "metadata": {
      "needs_background": "light"
     },
     "output_type": "display_data"
    }
   ],
   "source": [
    "params = np.array( [ 6.58477685e-22,  1.50455111e-17, -2.74129372e-14,  2.03138072e-11,\n",
    "                    -7.13216271e-09,  1.83113819e-06,  4.85324372e-05,  1.00393735e+00,\n",
    "                    -1.89564238e-02] )\n",
    "params = np.flip(params)\n",
    "\n",
    "def pes_to_photons(Npes):\n",
    "    #polynomial correction\n",
    "    exp = np.array( [Npes**i for i in range(0, 9)] )\n",
    "    Nph = np.sum( np.multiply(params, exp.T).T, axis=0)\n",
    "    \n",
    "    #identity correction\n",
    "    sel = Npes<50\n",
    "    Nph[sel] = Npes[sel]\n",
    "    \n",
    "    return Nph\n",
    "\n",
    "Npes = np.arange(0, 700, dtype=np.float)\n",
    "Nph = pes_to_photons(Npes)\n",
    "\n",
    "plt.scatter( Npes, Nph, c=\"black\", s=5)\n",
    "plt.xlabel(\"Npes\")\n",
    "plt.ylabel(\"Nph\");"
   ]
  },
  {
   "cell_type": "code",
   "execution_count": 9,
   "metadata": {},
   "outputs": [],
   "source": [
    "corrsipm = pes_to_photons(sipm_cwfs)"
   ]
  },
  {
   "cell_type": "code",
   "execution_count": 10,
   "metadata": {},
   "outputs": [
    {
     "data": {
      "text/plain": [
       "<matplotlib.collections.PathCollection at 0x7f670a48dc10>"
      ]
     },
     "execution_count": 10,
     "metadata": {},
     "output_type": "execute_result"
    },
    {
     "data": {
      "image/png": "[encoded data removed]",
      "text/plain": [
       "<Figure size 432x288 with 1 Axes>"
      ]
     },
     "metadata": {
      "needs_background": "light"
     },
     "output_type": "display_data"
    }
   ],
   "source": [
    "times = np.arange(sipm_cwfs.shape[1])\n",
    "plt.scatter(times, np.sum( corrsipm, axis=0), color=\"black\", s=5 )"
   ]
  },
  {
   "cell_type": "code",
   "execution_count": null,
   "metadata": {},
   "outputs": [],
   "source": []
  },
  {
   "cell_type": "code",
   "execution_count": null,
   "metadata": {},
   "outputs": [],
   "source": []
  },
  {
   "cell_type": "markdown",
   "metadata": {},
   "source": [
    "### Find S1 and S2 peaks (IRENE)"
   ]
  },
  {
   "cell_type": "code",
   "execution_count": 11,
   "metadata": {},
   "outputs": [
    {
     "name": "stdout",
     "output_type": "stream",
     "text": [
      "Number of S1 candidates: 1\n",
      "Number of S2 candidates: 1\n"
     ]
    }
   ],
   "source": [
    "zero_suppress = zero_suppress_wfs(thr_csum_s1, thr_csum_s2)\n",
    "s1_indices, s2_indices = zero_suppress(cwf_sum, cwf_sum_mau)\n",
    "\n",
    "indices_split   = split_in_peaks(s1_indices, s1_stride)\n",
    "time    = minmax(min = s1_tmin, max = s1_tmax)\n",
    "length  = minmax(min = s1_lmin, max = s1_lmax)\n",
    "s1_selected_splits = select_peaks  (indices_split, time, length)\n",
    "print(\"Number of S1 candidates:\", len(s1_selected_splits))\n",
    "\n",
    "\n",
    "indices_split   = split_in_peaks(s2_indices, s2_stride)\n",
    "time    = minmax(min = s2_tmin, max = s2_tmax)\n",
    "length  = minmax(min = s2_lmin, max = s2_lmax)\n",
    "s2_selected_splits = select_peaks  (indices_split, time, length)\n",
    "print(\"Number of S2 candidates:\", len(s2_selected_splits))"
   ]
  },
  {
   "cell_type": "markdown",
   "metadata": {},
   "source": [
    "### S1 and S2 cuts"
   ]
  },
  {
   "cell_type": "code",
   "execution_count": 12,
   "metadata": {},
   "outputs": [],
   "source": [
    "# S1 cuts\n",
    "if len(s1_selected_splits)==0:\n",
    "    raise Exception(\"No S1 in event\")\n",
    "    \n",
    "s1es, s1ws = [], []\n",
    "for ss in s1_selected_splits:\n",
    "    s1_pmt = np.sum( pmt_ccwfs[:, ss[0]: ss[-1]], axis=0)\n",
    "    s1es.append( np.sum(s1_pmt)    )\n",
    "    s1ws.append( (ss[-1]-ss[0])*25 )\n",
    "s1es, s1ws = np.array(s1es), np.array(s1ws)\n",
    "\n",
    "sel = (s1es>=s1emin) & (s1ws>=s1wmin)\n",
    "idxs = np.argwhere(sel).flatten()\n",
    "\n",
    "if len(idxs)==0:\n",
    "    raise Exception(\"No S1 pass the cut\")\n",
    "elif len(idxs)>1:\n",
    "    raise Exception(\"More than 1S1 pass the cut\")\n",
    "else:\n",
    "    idx = idxs[0]\n",
    "    s1_pmt = np.sum( pmt_ccwfs[:, s1_selected_splits[idx][0]: s1_selected_splits[idx][-1]], axis=0)\n",
    "    times  = np.arange(s1_selected_splits[idx][0], s1_selected_splits[idx][-1])*25\n",
    "\n",
    "    S1_time = times[np.argmax(s1_pmt)]\n",
    "    \n",
    "# S2 cut\n",
    "if len(s2_selected_splits)>1:\n",
    "    raise Exception(\"More that 1S2\")"
   ]
  },
  {
   "cell_type": "markdown",
   "metadata": {},
   "source": [
    "### Select and process S2 RWFs"
   ]
  },
  {
   "cell_type": "code",
   "execution_count": 13,
   "metadata": {},
   "outputs": [],
   "source": [
    "times  = np.arange     (pmt_ccwfs.shape[1]) * 25 * units.ns\n",
    "widths = np.full       (pmt_ccwfs.shape[1],   25 * units.ns)\n",
    "\n",
    "indices = s2_selected_splits[0]\n",
    "wfs     = pmt_ccwfs\n",
    "\n",
    "with_sipms = True\n",
    "\n",
    "times, rebinned_widths, s2_pmts = pick_slice_and_rebin(indices, times, widths,\n",
    "                                                       wfs, \n",
    "                                                       rebin_stride = s2_rebin_stride, \n",
    "                                                       pad_zeros    = with_sipms)"
   ]
  },
  {
   "cell_type": "code",
   "execution_count": 14,
   "metadata": {},
   "outputs": [],
   "source": [
    "s2_sipms = sipm_cwfs[:, s2_selected_splits[0][0] //40 : s2_selected_splits[0][-1]//40 + 1]\n",
    "\n",
    "\n",
    "########## ADD PES TO PHOTON CONVERSION HERE ############\n",
    "s2_sipms = pes_to_photons(s2_sipms)\n",
    "\n",
    "\n",
    "# thr_sipm_s2\n",
    "sipm_ids, s2_sipms = select_wfs_above_time_integrated_thr(s2_sipms, thr_sipm_s2)\n",
    "\n",
    "\n",
    "\n",
    "#float32\n",
    "s2_pmts  = np.float32( s2_pmts )\n",
    "s2_sipms = np.float32( s2_sipms)\n",
    "times    = np.float32( times   )\n",
    "\n",
    "#pmt ids\n",
    "c = np.zeros(s2_pmts.shape[0])\n",
    "c[pmt_ids] = 1\n",
    "s2_pmts  = np.multiply( c, s2_pmts.T ).T"
   ]
  },
  {
   "cell_type": "code",
   "execution_count": null,
   "metadata": {},
   "outputs": [],
   "source": []
  },
  {
   "cell_type": "markdown",
   "metadata": {},
   "source": [
    "## PENTHESILEA"
   ]
  },
  {
   "cell_type": "markdown",
   "metadata": {},
   "source": [
    "## Rebin"
   ]
  },
  {
   "cell_type": "code",
   "execution_count": 15,
   "metadata": {},
   "outputs": [],
   "source": [
    "# Rebin\n",
    "rebin = 2\n",
    "\n",
    "_, _, s2_sipms    = rebin_times_and_waveforms(times, rebinned_widths, s2_sipms,\n",
    "                                              rebin_stride=rebin, slices=None)\n",
    "\n",
    "times, _, s2_pmts = rebin_times_and_waveforms(times, rebinned_widths, s2_pmts,\n",
    "                                              rebin_stride=rebin, slices=None)"
   ]
  },
  {
   "cell_type": "code",
   "execution_count": 16,
   "metadata": {},
   "outputs": [],
   "source": [
    "s2_pmts_penth  = np.copy( s2_pmts )\n",
    "s2_sipms_penth = np.copy( s2_sipms )"
   ]
  },
  {
   "cell_type": "markdown",
   "metadata": {},
   "source": [
    "## Create hits"
   ]
  },
  {
   "cell_type": "code",
   "execution_count": 17,
   "metadata": {},
   "outputs": [],
   "source": [
    "datasipm = load_db.DataSiPM(\"new\", run)\n",
    "sipm_xs  = datasipm.X.values\n",
    "sipm_ys  = datasipm.Y.values\n",
    "n_sipms = len(sipm_ids)\n",
    "\n",
    "X, Y = sipm_xs[sipm_ids], sipm_ys[sipm_ids]\n",
    "T = (times - S1_time)/1000"
   ]
  },
  {
   "cell_type": "code",
   "execution_count": 18,
   "metadata": {},
   "outputs": [],
   "source": [
    "E_per_slice = np.sum( s2_pmts_penth, axis=0)\n",
    "\n",
    "hits = []\n",
    "for t, e, q in zip(T, E_per_slice, s2_sipms_penth.T):\n",
    "    hits.append( (X, Y, np.full( n_sipms, t), \n",
    "                  np.full(n_sipms, e), np.full( n_sipms, -1), \n",
    "                  q                  , np.full( n_sipms, -1) ) )\n",
    "\n",
    "hits = np.array( hits )\n",
    "hits = np.swapaxes(hits, axis1=1, axis2=2)\n",
    "hits = np.concatenate( hits )"
   ]
  },
  {
   "cell_type": "code",
   "execution_count": 19,
   "metadata": {},
   "outputs": [],
   "source": [
    "H = np.array(np.zeros(np.shape(hits)[0]), \n",
    "             dtype=[(\"X\", int)  , (\"Y\", int)  , (\"Z\", float), \n",
    "                    (\"E\", float), (\"Ec\",float),\n",
    "                    (\"Q\", float), (\"Qc\", float)])\n",
    "\n",
    "H[\"X\"], H[\"Y\"], H[\"Z\"] = hits[:, 0], hits[:, 1], hits[:, 2]\n",
    "H[\"E\"], H[\"Ec\"] = hits[:, 3], -1                            #OJO, la energía del hit es la energia de la slice\n",
    "H[\"Q\"], H[\"Qc\"] = hits[:, 5], -1\n",
    "\n",
    "#remove 0 charge hits\n",
    "sel = ~(H[\"Q\"]==0)\n",
    "hits = H[sel]"
   ]
  },
  {
   "cell_type": "markdown",
   "metadata": {},
   "source": [
    "## Charge Corrections"
   ]
  },
  {
   "cell_type": "code",
   "execution_count": 25,
   "metadata": {},
   "outputs": [],
   "source": [
    "from invisible_cities.reco.corrections_new import correct_lifetime_\n",
    "from invisible_cities.reco.corrections_new import maps_coefficient_getter\n",
    "\n",
    "qmap_file = glob.glob( f\"/home/gdiaz/SIPM_correction/data/maps/qmap_*\")[0]\n",
    "qmaps = read_maps( qmap_file )\n",
    "\n",
    "# total_correction = apply_all_correction(maps, apply_temp=True,\n",
    "#                                         norm_strat=norm_strategy.kr)\n",
    "\n",
    "get_lt_corr_fun = maps_coefficient_getter(qmaps.mapinfo, qmaps.lt)\n",
    "apply_temp=False\n",
    "if apply_temp:\n",
    "    raise Exception(\"Apply temp is False\")\n",
    "else:\n",
    "    ltevol_vs_t = lambda x : np.ones_like(x)"
   ]
  },
  {
   "cell_type": "code",
   "execution_count": 26,
   "metadata": {},
   "outputs": [],
   "source": [
    "X, Y, Z = hits[\"X\"], hits[\"Y\"], hits[\"Z\"]\n",
    "Q = hits[\"Q\"]\n",
    "T = np.full(len(hits), event_time[-1]/1000)\n",
    "\n",
    "lt_factor  = correct_lifetime_(Z, get_lt_corr_fun(X, Y) * ltevol_vs_t(T))\n",
    "Qc = lt_factor * Q\n",
    "\n",
    "hits[\"Qc\"] = Qc"
   ]
  },
  {
   "cell_type": "code",
   "execution_count": 27,
   "metadata": {},
   "outputs": [
    {
     "data": {
      "text/plain": [
       "array([(-95,   65, 220.76814419, 243.67616241, -1., 1.01528907, 1.07625228),\n",
       "       (-95,   75, 220.76814419, 243.67616241, -1., 3.4644227 , 3.70196777),\n",
       "       (-95,   85, 220.76814419, 243.67616241, -1., 1.03783739, 1.10293007),\n",
       "       ...,\n",
       "       (-35, -205, 249.85264983, 183.95663929, -1., 1.73095393,        nan),\n",
       "       ( 25,  145, 249.85264983, 183.95663929, -1., 1.02345324, 1.11123749),\n",
       "       ( 55,  -65, 249.85264983, 183.95663929, -1., 3.77339077, 4.0274281 )],\n",
       "      dtype=[('X', '<i8'), ('Y', '<i8'), ('Z', '<f8'), ('E', '<f8'), ('Ec', '<f8'), ('Q', '<f8'), ('Qc', '<f8')])"
      ]
     },
     "execution_count": 27,
     "metadata": {},
     "output_type": "execute_result"
    }
   ],
   "source": [
    "hits"
   ]
  },
  {
   "cell_type": "markdown",
   "metadata": {},
   "source": [
    "## Charge cut"
   ]
  },
  {
   "cell_type": "code",
   "execution_count": 28,
   "metadata": {},
   "outputs": [],
   "source": [
    "qth_penth = 30 * pes"
   ]
  },
  {
   "cell_type": "code",
   "execution_count": 29,
   "metadata": {},
   "outputs": [],
   "source": [
    "qth = qth_penth\n",
    "\n",
    "sel = (hits[\"Qc\"]>=qth)\n",
    "hits[\"Qc\"][~sel] = 0\n",
    "\n",
    "slides = np.unique( hits[\"Z\"] )\n",
    "for slide in slides:\n",
    "    sel = (hits[\"Z\"]==slide)\n",
    "    slide_hits = hits[sel]\n",
    "    \n",
    "    q = slide_hits[\"Qc\"]\n",
    "    e = slide_hits[\"E\"]\n",
    "    slide_e = e[0]     ## OJO AQUÍ   \n",
    "\n",
    "    if np.sum( q ) == 0:\n",
    "        idxs = np.argwhere(sel).flatten()\n",
    "        hits = np.delete(hits, idxs)\n",
    "        hits = np.insert(hits, 0, (0, 0, slide, \n",
    "                                   slide_e, NN, \n",
    "                                   NN, NN))\n",
    "    else:\n",
    "        hits[\"E\"][sel] = slide_e * q / np.sum(q)\n",
    "        \n",
    "sel = (hits[\"Qc\"]==0)\n",
    "hits = np.delete( hits, np.argwhere(sel))\n",
    "hits = np.sort(hits, order=\"Z\")"
   ]
  },
  {
   "cell_type": "code",
   "execution_count": 30,
   "metadata": {
    "scrolled": true
   },
   "outputs": [
    {
     "data": {
      "text/plain": [
       "array([(   0,    0, 220.76814419,  243.67616241, -9.99999e+05, -9.99999000e+05, -9.99999000e+05),\n",
       "       (  45, -155, 222.61535583, 2311.63030784, -1.00000e+00,  6.98657074e+01,  7.34251258e+01),\n",
       "       (  55, -155, 222.61535583, 1348.9965728 , -1.00000e+00,  3.98736954e+01,  4.28486522e+01),\n",
       "       ( -95,   75, 224.43119066, 1000.54737644, -1.00000e+00,  4.98988571e+01,  5.33789765e+01),\n",
       "       ( -85,   65, 224.43119066,  765.65747753, -1.00000e+00,  3.84982338e+01,  4.08476535e+01),\n",
       "       ( -85,   75, 224.43119066, 1339.80667113, -1.00000e+00,  6.72820892e+01,  7.14783833e+01),\n",
       "       ( -85,   85, 224.43119066,  733.8903032 , -1.00000e+00,  3.68904190e+01,  3.91528819e+01),\n",
       "       (  35, -165, 224.43119066,  591.93830042, -1.00000e+00,  2.96493206e+01,  3.15797746e+01),\n",
       "       (  35, -155, 224.43119066,  656.95783392, -1.00000e+00,  3.29227676e+01,  3.50485520e+01),\n",
       "       (  45, -165, 224.43119066, 1486.32567921, -1.00000e+00,  7.50225601e+01,  7.92951392e+01),\n",
       "       (  45, -155, 224.43119066, 3196.48324932, -1.00000e+00,  1.62199066e+02,  1.70531659e+02),\n",
       "       (  45, -145, 224.43119066, 1295.50649237, -1.00000e+00,  6.44958496e+01,  6.91149787e+01),\n",
       "       (  55, -165, 224.43119066, 1208.75498821, -1.00000e+00,  6.13635025e+01,  6.44868056e+01),\n",
       "       (  55, -155, 224.43119066, 3347.82506481, -1.00000e+00,  1.66107697e+02,  1.78605711e+02),\n",
       "       (  55, -145, 224.43119066, 1470.46366793, -1.00000e+00,  7.34282608e+01,  7.84489045e+01),\n",
       "       ( -95,   65, 226.23706985,  775.49656188, -1.00000e+00,  3.02795029e+01,  3.21440398e+01),\n",
       "       ( -95,   75, 226.23706985, 1682.41210484, -1.00000e+00,  6.51534958e+01,  6.97353467e+01),\n",
       "       ( -95,   85, 226.23706985, 1023.8848403 , -1.00000e+00,  3.98748055e+01,  4.24396401e+01),\n",
       "       ( -85,   65, 226.23706985,  976.00225276, -1.00000e+00,  3.81099243e+01,  4.04549250e+01),\n",
       "       ( -85,   75, 226.23706985, 1940.62595412, -1.00000e+00,  7.56790619e+01,  8.04382132e+01),\n",
       "       ( -85,   85, 226.23706985,  862.7366977 , -1.00000e+00,  3.36775665e+01,  3.57601105e+01),\n",
       "       (  35, -155, 226.23706985,  957.70282909, -1.00000e+00,  3.72699623e+01,  3.96964208e+01),\n",
       "       (  45, -165, 226.23706985, 1694.22386457, -1.00000e+00,  6.64114761e+01,  7.02249396e+01),\n",
       "       (  45, -155, 226.23706985, 4339.39977527, -1.00000e+00,  1.71008820e+02,  1.79866483e+02),\n",
       "       (  45, -145, 226.23706985, 1997.84229865, -1.00000e+00,  7.72324219e+01,  8.28098091e+01),\n",
       "       (  55, -165, 226.23706985, 1422.70215309, -1.00000e+00,  5.60919266e+01,  5.89704672e+01),\n",
       "       (  55, -155, 226.23706985, 4020.95753104, -1.00000e+00,  1.54914108e+02,  1.66667172e+02),\n",
       "       (  55, -145, 226.23706985, 1664.90941201, -1.00000e+00,  6.45589447e+01,  6.90098667e+01),\n",
       "       (  65, -155, 226.23706985,  840.05819247, -1.00000e+00,  3.27699089e+01,  3.48200950e+01),\n",
       "       ( -95,   65, 228.13818144,  983.9518403 , -1.00000e+00,  3.05183945e+01,  3.24139140e+01),\n",
       "       ( -95,   75, 228.13818144, 2136.25020861, -1.00000e+00,  6.57122726e+01,  7.03735972e+01),\n",
       "       ( -95,   85, 228.13818144, 1763.94152171, -1.00000e+00,  5.45683975e+01,  5.81087879e+01),\n",
       "       ( -85,   65, 228.13818144,  994.37401363, -1.00000e+00,  3.08429680e+01,  3.27572473e+01),\n",
       "       ( -85,   75, 228.13818144, 2581.98592496, -1.00000e+00,  7.99838409e+01,  8.50572825e+01),\n",
       "       ( -85,   85, 228.13818144, 1095.32711898, -1.00000e+00,  3.39644318e+01,  3.60829032e+01),\n",
       "       (  45, -155, 228.13818144, 1799.50930658, -1.00000e+00,  5.63372574e+01,  5.92804825e+01),\n",
       "       (  45, -145, 228.13818144, 1046.69086928, -1.00000e+00,  3.21395264e+01,  3.44806996e+01),\n",
       "       (  55, -155, 228.13818144, 2088.37175332, -1.00000e+00,  6.39056816e+01,  6.87963573e+01),\n",
       "       ( -95,   65, 230.25541295,  838.64234283, -1.00000e+00,  3.35642624e+01,  3.56689043e+01),\n",
       "       ( -95,   75, 230.25541295, 1521.91840638, -1.00000e+00,  6.04038849e+01,  6.47298130e+01),\n",
       "       ( -95,   85, 230.25541295, 1093.36071477, -1.00000e+00,  4.36437912e+01,  4.65025157e+01),\n",
       "       ( -85,   65, 230.25541295,  875.95018896, -1.00000e+00,  3.50589142e+01,  3.72556713e+01),\n",
       "       ( -85,   75, 230.25541295, 1961.10987419, -1.00000e+00,  7.83894806e+01,  8.34093831e+01),\n",
       "       ( -85,   85, 230.25541295, 1409.49696913, -1.00000e+00,  5.63970184e+01,  5.99483355e+01),\n",
       "       ( -75,   75, 230.25541295,  899.21062992, -1.00000e+00,  3.56564407e+01,  3.82449780e+01),\n",
       "       ( -75,   85, 230.25541295,  755.72896464, -1.00000e+00,  3.02424240e+01,  3.21424554e+01),\n",
       "       (-105,   75, 232.3850201 ,  535.93050903, -1.00000e+00,  3.16450233e+01,  3.35822723e+01),\n",
       "       ( -95,   65, 232.3850201 ,  612.11509322, -1.00000e+00,  3.60726242e+01,  3.83561216e+01),\n",
       "       ( -95,   75, 232.3850201 , 1479.26235163, -1.00000e+00,  8.64429321e+01,  9.26929710e+01),\n",
       "       ( -95,   85, 232.3850201 , 1465.85707525, -1.00000e+00,  8.61557770e+01,  9.18529747e+01),\n",
       "       ( -95,   95, 232.3850201 ,  597.69621172, -1.00000e+00,  3.48129272e+01,  3.74526111e+01),\n",
       "       ( -85,   65, 232.3850201 ,  623.1258512 , -1.00000e+00,  3.67230988e+01,  3.90460735e+01),\n",
       "       ( -85,   75, 232.3850201 , 2184.86654556, -1.00000e+00,  1.28593811e+02,  1.36907271e+02),\n",
       "       ( -85,   85, 232.3850201 , 3277.42495029, -1.00000e+00,  1.93093689e+02,  2.05368747e+02),\n",
       "       ( -85,   95, 232.3850201 , 1228.45775403, -1.00000e+00,  7.18828888e+01,  7.69771494e+01),\n",
       "       ( -75,   75, 232.3850201 ,  768.41109591, -1.00000e+00,  4.48618622e+01,  4.81498818e+01),\n",
       "       ( -75,   85, 232.3850201 , 1856.97799267, -1.00000e+00,  1.09421120e+02,  1.16361244e+02),\n",
       "       ( -75,   95, 232.3850201 ,  988.74236349, -1.00000e+00,  5.84551620e+01,  6.19561954e+01),\n",
       "       ( -65,   85, 232.3850201 ,  524.79007343, -1.00000e+00,  3.07313747e+01,  3.28841946e+01),\n",
       "       ( -95,   65, 234.29835492,  598.83998177, -1.00000e+00,  3.17725754e+01,  3.38009453e+01),\n",
       "       ( -95,   75, 234.29835492, 1636.7814285 , -1.00000e+00,  8.61076660e+01,  9.23865495e+01),\n",
       "       ( -95,   85, 234.29835492, 2290.58489786, -1.00000e+00,  1.21206711e+02,  1.29289856e+02),\n",
       "       ( -95,   95, 234.29835492,  910.95598808, -1.00000e+00,  4.77653046e+01,  5.14180324e+01),\n",
       "       ( -85,   65, 234.29835492,  897.0320572 , -1.00000e+00,  4.75958023e+01,  5.06321095e+01),\n",
       "       ( -85,   75, 234.29835492, 3542.05697947, -1.00000e+00,  1.87690872e+02,  1.99927991e+02),\n",
       "       ( -85,   85, 234.29835492, 5162.46363502, -1.00000e+00,  2.73834656e+02,  2.91390282e+02),\n",
       "       ( -85,   95, 234.29835492, 2033.24839465, -1.00000e+00,  1.07109344e+02,  1.14764745e+02),\n",
       "       ( -75,   65, 234.29835492,  563.75595757, -1.00000e+00,  2.99285202e+01,  3.18206614e+01),\n",
       "       ( -75,   75, 234.29835492, 2320.79268496, -1.00000e+00,  1.21978577e+02,  1.30994905e+02),\n",
       "       ( -75,   85, 234.29835492, 2939.22267045, -1.00000e+00,  1.55927765e+02,  1.65901590e+02),\n",
       "       ( -75,   95, 234.29835492, 1531.40129699, -1.00000e+00,  8.15149384e+01,  8.64384696e+01),\n",
       "       ( -65,   75, 234.29835492,  684.0258496 , -1.00000e+00,  3.62937431e+01,  3.86091795e+01),\n",
       "       ( -65,   85, 234.29835492,  674.42243186, -1.00000e+00,  3.55551682e+01,  3.80671239e+01),\n",
       "       ( -65,   95, 234.29835492,  595.18887834, -1.00000e+00,  3.12745171e+01,  3.35948623e+01),\n",
       "       ( -95,   65, 236.27606387,  600.33791316, -1.00000e+00,  3.19517441e+01,  3.40093131e+01),\n",
       "       ( -95,   75, 236.27606387, 1953.13215315, -1.00000e+00,  1.03064423e+02,  1.10645491e+02),\n",
       "       ( -95,   85, 236.27606387, 2295.37758182, -1.00000e+00,  1.21837723e+02,  1.30033791e+02),\n",
       "       ( -95,   95, 236.27606387,  794.93843813, -1.00000e+00,  4.18083038e+01,  4.50334881e+01),\n",
       "       ( -85,   65, 236.27606387, 1413.26312688, -1.00000e+00,  7.52213364e+01,  8.00617571e+01),\n",
       "       ( -85,   75, 236.27606387, 4958.07444537, -1.00000e+00,  2.63544006e+02,  2.80876324e+02),\n",
       "       ( -85,   85, 236.27606387, 5206.62654955, -1.00000e+00,  2.77041016e+02,  2.94956871e+02),\n",
       "       ( -85,   95, 236.27606387, 2034.27948683, -1.00000e+00,  1.07492584e+02,  1.15242510e+02),\n",
       "       ( -75,   65, 236.27606387,  633.69326946, -1.00000e+00,  3.37467918e+01,  3.58989035e+01),\n",
       "       ( -75,   75, 236.27606387, 2916.73995754, -1.00000e+00,  1.53768555e+02,  1.65234146e+02),\n",
       "       ( -75,   85, 236.27606387, 3427.528214  , -1.00000e+00,  1.82401642e+02,  1.94170446e+02),\n",
       "       ( -75,   95, 236.27606387, 1408.99208027, -1.00000e+00,  7.52360153e+01,  7.98198011e+01),\n",
       "       ( -65,   75, 236.27606387,  554.79327089, -1.00000e+00,  2.95289326e+01,  3.14291962e+01),\n",
       "       ( -65,   85, 236.27606387, 1062.85291904, -1.00000e+00,  5.62053528e+01,  6.02109194e+01),\n",
       "       ( -65,   95, 236.27606387,  598.47807681, -1.00000e+00,  3.15431976e+01,  3.39039529e+01),\n",
       "       ( -95,   75, 238.18019986, 2450.4691493 , -1.00000e+00,  9.41540680e+01,  1.01137555e+02),\n",
       "       ( -95,   85, 238.18019986, 2032.23378746, -1.00000e+00,  7.85478973e+01,  8.38758391e+01),\n",
       "       ( -95,   95, 238.18019986,  753.53766705, -1.00000e+00,  2.88559284e+01,  3.11005577e+01),\n",
       "       ( -85,   65, 238.18019986, 1416.95376142, -1.00000e+00,  5.49182320e+01,  5.84815519e+01),\n",
       "       ( -85,   75, 238.18019986, 5007.67230273, -1.00000e+00,  1.93826965e+02,  2.06680314e+02),\n",
       "       ( -85,   85, 238.18019986, 5015.10101948, -1.00000e+00,  1.94316254e+02,  2.06986917e+02),\n",
       "       ( -85,   95, 238.18019986, 1808.58765309, -1.00000e+00,  6.95864868e+01,  7.46453523e+01),\n",
       "       ( -75,   75, 238.18019986, 2727.32694017, -1.00000e+00,  1.04692711e+02,  1.12564232e+02),\n",
       "       ( -75,   85, 238.18019986, 2795.90910098, -1.00000e+00,  1.08346039e+02,  1.15394805e+02),\n",
       "       ( -75,   95, 238.18019986,  940.28967299, -1.00000e+00,  3.65622597e+01,  3.88083231e+01),\n",
       "       ( -95,   75, 240.11665434, 1903.21760438, -1.00000e+00,  5.64924393e+01,  6.07178411e+01),\n",
       "       ( -95,   85, 240.11665434, 1518.30824965, -1.00000e+00,  4.53371048e+01,  4.84381811e+01),\n",
       "       ( -85,   75, 240.11665434, 3478.6784185 , -1.00000e+00,  1.04023277e+02,  1.10979345e+02),\n",
       "       ( -85,   85, 240.11665434, 2991.81285606, -1.00000e+00,  8.95582275e+01,  9.54470036e+01),\n",
       "       ( -75,   75, 240.11665434, 1247.59125917, -1.00000e+00,  3.69964676e+01,  3.98015695e+01),\n",
       "       ( -75,   85, 240.11665434, 1210.01542206, -1.00000e+00,  3.62262192e+01,  3.86027977e+01),\n",
       "       ( -85,   75, 242.10895094, 2955.34538205, -1.00000e+00,  4.50141640e+01,  4.80500742e+01),\n",
       "       ( -85,   85, 242.10895094, 2280.21455447, -1.00000e+00,  3.47676430e+01,  3.70733245e+01),\n",
       "       ( -85,   75, 244.16389109, 1698.56808783, -1.00000e+00,  3.45445175e+01,  3.68947513e+01),\n",
       "       ( -85,   85, 244.16389109, 1487.9141662 , -1.00000e+00,  3.02925987e+01,  3.23191184e+01),\n",
       "       (   0,    0, 246.24377881, 2432.72919464, -9.99999e+05, -9.99999000e+05, -9.99999000e+05),\n",
       "       (   0,    0, 248.04797121, 1072.92823601, -9.99999e+05, -9.99999000e+05, -9.99999000e+05),\n",
       "       (   0,    0, 249.85264983,  183.95663929, -9.99999e+05, -9.99999000e+05, -9.99999000e+05)],\n",
       "      dtype=[('X', '<i8'), ('Y', '<i8'), ('Z', '<f8'), ('E', '<f8'), ('Ec', '<f8'), ('Q', '<f8'), ('Qc', '<f8')])"
      ]
     },
     "execution_count": 30,
     "metadata": {},
     "output_type": "execute_result"
    }
   ],
   "source": [
    "hits"
   ]
  },
  {
   "cell_type": "code",
   "execution_count": null,
   "metadata": {},
   "outputs": [],
   "source": []
  },
  {
   "cell_type": "code",
   "execution_count": 31,
   "metadata": {},
   "outputs": [],
   "source": [
    "# JOIN NN hits\n",
    "\n",
    "sel = (hits[\"Q\"]==NN)\n",
    "\n",
    "nn_hits = hits[ sel]\n",
    "hits    = hits[~sel]\n",
    "\n",
    "slides = np.unique( hits[\"Z\"] )\n",
    "\n",
    "for nn_hit in nn_hits:\n",
    "    \n",
    "    #select slide to append\n",
    "    d = np.abs( slides - nn_hit[\"Z\"] ) \n",
    "    \n",
    "    slide = slides[ np.argmin( d ) ]\n",
    "    slide_hits = hits[hits[\"Z\"]==slide]\n",
    "    \n",
    "    #new energy \n",
    "    new_E = np.sum(slide_hits[\"E\"]) + nn_hit[\"E\"]\n",
    "    \n",
    "    q = hits[hits[\"Z\"]==slide][\"Q\"]\n",
    "    Q = np.sum( q )\n",
    "    \n",
    "    hits[\"E\"][hits[\"Z\"] == slide] = new_E * q / Q"
   ]
  },
  {
   "cell_type": "code",
   "execution_count": null,
   "metadata": {},
   "outputs": [],
   "source": []
  },
  {
   "cell_type": "code",
   "execution_count": 32,
   "metadata": {},
   "outputs": [
    {
     "data": {
      "text/plain": [
       "array([(  45, -155, 222.61535583, 2485.67868158, -1.,  69.8657074 ,  73.42512584),\n",
       "       (  55, -155, 222.61535583, 1418.62436147, -1.,  39.87369537,  42.84865222),\n",
       "       ( -95,   75, 224.43119066, 1000.54737644, -1.,  49.89885712,  53.37897652),\n",
       "       ( -85,   65, 224.43119066,  765.65747753, -1.,  38.4982338 ,  40.84765347),\n",
       "       ( -85,   75, 224.43119066, 1339.80667113, -1.,  67.28208923,  71.47838326),\n",
       "       ( -85,   85, 224.43119066,  733.8903032 , -1.,  36.89041901,  39.1528819 ),\n",
       "       (  35, -165, 224.43119066,  591.93830042, -1.,  29.6493206 ,  31.57977461),\n",
       "       (  35, -155, 224.43119066,  656.95783392, -1.,  32.92276764,  35.04855204),\n",
       "       (  45, -165, 224.43119066, 1486.32567921, -1.,  75.02256012,  79.29513924),\n",
       "       (  45, -155, 224.43119066, 3196.48324932, -1., 162.19906616, 170.5316593 ),\n",
       "       (  45, -145, 224.43119066, 1295.50649237, -1.,  64.49584961,  69.11497873),\n",
       "       (  55, -165, 224.43119066, 1208.75498821, -1.,  61.3635025 ,  64.48680558),\n",
       "       (  55, -155, 224.43119066, 3347.82506481, -1., 166.10769653, 178.60571097),\n",
       "       (  55, -145, 224.43119066, 1470.46366793, -1.,  73.4282608 ,  78.44890452),\n",
       "       ( -95,   65, 226.23706985,  775.49656188, -1.,  30.27950287,  32.14403975),\n",
       "       ( -95,   75, 226.23706985, 1682.41210484, -1.,  65.15349579,  69.73534667),\n",
       "       ( -95,   85, 226.23706985, 1023.8848403 , -1.,  39.87480545,  42.43964013),\n",
       "       ( -85,   65, 226.23706985,  976.00225276, -1.,  38.10992432,  40.45492495),\n",
       "       ( -85,   75, 226.23706985, 1940.62595412, -1.,  75.67906189,  80.43821325),\n",
       "       ( -85,   85, 226.23706985,  862.7366977 , -1.,  33.67756653,  35.76011045),\n",
       "       (  35, -155, 226.23706985,  957.70282909, -1.,  37.26996231,  39.69642075),\n",
       "       (  45, -165, 226.23706985, 1694.22386457, -1.,  66.41147614,  70.22493965),\n",
       "       (  45, -155, 226.23706985, 4339.39977527, -1., 171.00881958, 179.86648264),\n",
       "       (  45, -145, 226.23706985, 1997.84229865, -1.,  77.23242188,  82.80980913),\n",
       "       (  55, -165, 226.23706985, 1422.70215309, -1.,  56.09192657,  58.9704672 ),\n",
       "       (  55, -155, 226.23706985, 4020.95753104, -1., 154.91410828, 166.66717183),\n",
       "       (  55, -145, 226.23706985, 1664.90941201, -1.,  64.5589447 ,  69.00986666),\n",
       "       (  65, -155, 226.23706985,  840.05819247, -1.,  32.76990891,  34.82009497),\n",
       "       ( -95,   65, 228.13818144,  983.9518403 , -1.,  30.51839447,  32.41391398),\n",
       "       ( -95,   75, 228.13818144, 2136.25020861, -1.,  65.71227264,  70.37359722),\n",
       "       ( -95,   85, 228.13818144, 1763.94152171, -1.,  54.56839752,  58.10878785),\n",
       "       ( -85,   65, 228.13818144,  994.37401363, -1.,  30.84296799,  32.75724727),\n",
       "       ( -85,   75, 228.13818144, 2581.98592496, -1.,  79.98384094,  85.05728251),\n",
       "       ( -85,   85, 228.13818144, 1095.32711898, -1.,  33.96443176,  36.0829032 ),\n",
       "       (  45, -155, 228.13818144, 1799.50930658, -1.,  56.33725739,  59.28048251),\n",
       "       (  45, -145, 228.13818144, 1046.69086928, -1.,  32.13952637,  34.48069957),\n",
       "       (  55, -155, 228.13818144, 2088.37175332, -1.,  63.90568161,  68.79635729),\n",
       "       ( -95,   65, 230.25541295,  838.64234283, -1.,  33.56426239,  35.66890431),\n",
       "       ( -95,   75, 230.25541295, 1521.91840638, -1.,  60.40388489,  64.72981297),\n",
       "       ( -95,   85, 230.25541295, 1093.36071477, -1.,  43.6437912 ,  46.50251569),\n",
       "       ( -85,   65, 230.25541295,  875.95018896, -1.,  35.05891418,  37.25567131),\n",
       "       ( -85,   75, 230.25541295, 1961.10987419, -1.,  78.38948059,  83.40938308),\n",
       "       ( -85,   85, 230.25541295, 1409.49696913, -1.,  56.39701843,  59.94833548),\n",
       "       ( -75,   75, 230.25541295,  899.21062992, -1.,  35.65644073,  38.24497795),\n",
       "       ( -75,   85, 230.25541295,  755.72896464, -1.,  30.24242401,  32.14245543),\n",
       "       (-105,   75, 232.3850201 ,  535.93050903, -1.,  31.64502335,  33.58227233),\n",
       "       ( -95,   65, 232.3850201 ,  612.11509322, -1.,  36.07262421,  38.35612157),\n",
       "       ( -95,   75, 232.3850201 , 1479.26235163, -1.,  86.44293213,  92.69297101),\n",
       "       ( -95,   85, 232.3850201 , 1465.85707525, -1.,  86.15577698,  91.85297471),\n",
       "       ( -95,   95, 232.3850201 ,  597.69621172, -1.,  34.81292725,  37.45261114),\n",
       "       ( -85,   65, 232.3850201 ,  623.1258512 , -1.,  36.72309875,  39.04607347),\n",
       "       ( -85,   75, 232.3850201 , 2184.86654556, -1., 128.59381104, 136.90727081),\n",
       "       ( -85,   85, 232.3850201 , 3277.42495029, -1., 193.09368896, 205.36874718),\n",
       "       ( -85,   95, 232.3850201 , 1228.45775403, -1.,  71.88288879,  76.97714936),\n",
       "       ( -75,   75, 232.3850201 ,  768.41109591, -1.,  44.86186218,  48.14988184),\n",
       "       ( -75,   85, 232.3850201 , 1856.97799267, -1., 109.42111969, 116.36124387),\n",
       "       ( -75,   95, 232.3850201 ,  988.74236349, -1.,  58.45516205,  61.95619535),\n",
       "       ( -65,   85, 232.3850201 ,  524.79007343, -1.,  30.73137474,  32.88419462),\n",
       "       ( -95,   65, 234.29835492,  598.83998177, -1.,  31.77257538,  33.80094535),\n",
       "       ( -95,   75, 234.29835492, 1636.7814285 , -1.,  86.10766602,  92.38654949),\n",
       "       ( -95,   85, 234.29835492, 2290.58489786, -1., 121.20671082, 129.2898559 ),\n",
       "       ( -95,   95, 234.29835492,  910.95598808, -1.,  47.76530457,  51.41803237),\n",
       "       ( -85,   65, 234.29835492,  897.0320572 , -1.,  47.59580231,  50.63210952),\n",
       "       ( -85,   75, 234.29835492, 3542.05697947, -1., 187.69087219, 199.92799083),\n",
       "       ( -85,   85, 234.29835492, 5162.46363502, -1., 273.83465576, 291.39028205),\n",
       "       ( -85,   95, 234.29835492, 2033.24839465, -1., 107.10934448, 114.76474511),\n",
       "       ( -75,   65, 234.29835492,  563.75595757, -1.,  29.9285202 ,  31.82066143),\n",
       "       ( -75,   75, 234.29835492, 2320.79268496, -1., 121.97857666, 130.99490531),\n",
       "       ( -75,   85, 234.29835492, 2939.22267045, -1., 155.92776489, 165.90158953),\n",
       "       ( -75,   95, 234.29835492, 1531.40129699, -1.,  81.51493835,  86.43846958),\n",
       "       ( -65,   75, 234.29835492,  684.0258496 , -1.,  36.29374313,  38.60917952),\n",
       "       ( -65,   85, 234.29835492,  674.42243186, -1.,  35.55516815,  38.06712386),\n",
       "       ( -65,   95, 234.29835492,  595.18887834, -1.,  31.27451706,  33.59486234),\n",
       "       ( -95,   65, 236.27606387,  600.33791316, -1.,  31.95174408,  34.00931312),\n",
       "       ( -95,   75, 236.27606387, 1953.13215315, -1., 103.06442261, 110.64549066),\n",
       "       ( -95,   85, 236.27606387, 2295.37758182, -1., 121.83772278, 130.03379131),\n",
       "       ( -95,   95, 236.27606387,  794.93843813, -1.,  41.80830383,  45.03348808),\n",
       "       ( -85,   65, 236.27606387, 1413.26312688, -1.,  75.22133636,  80.06175714),\n",
       "       ( -85,   75, 236.27606387, 4958.07444537, -1., 263.54400635, 280.87632415),\n",
       "       ( -85,   85, 236.27606387, 5206.62654955, -1., 277.04101562, 294.95687137),\n",
       "       ( -85,   95, 236.27606387, 2034.27948683, -1., 107.49258423, 115.24251014),\n",
       "       ( -75,   65, 236.27606387,  633.69326946, -1.,  33.74679184,  35.89890352),\n",
       "       ( -75,   75, 236.27606387, 2916.73995754, -1., 153.76855469, 165.2341462 ),\n",
       "       ( -75,   85, 236.27606387, 3427.528214  , -1., 182.40164185, 194.17044586),\n",
       "       ( -75,   95, 236.27606387, 1408.99208027, -1.,  75.23601532,  79.81980114),\n",
       "       ( -65,   75, 236.27606387,  554.79327089, -1.,  29.52893257,  31.42919621),\n",
       "       ( -65,   85, 236.27606387, 1062.85291904, -1.,  56.20535278,  60.21091944),\n",
       "       ( -65,   95, 236.27606387,  598.47807681, -1.,  31.54319763,  33.90395286),\n",
       "       ( -95,   75, 238.18019986, 2450.4691493 , -1.,  94.15406799, 101.13755486),\n",
       "       ( -95,   85, 238.18019986, 2032.23378746, -1.,  78.54789734,  83.87583914),\n",
       "       ( -95,   95, 238.18019986,  753.53766705, -1.,  28.85592842,  31.10055769),\n",
       "       ( -85,   65, 238.18019986, 1416.95376142, -1.,  54.91823196,  58.48155192),\n",
       "       ( -85,   75, 238.18019986, 5007.67230273, -1., 193.82696533, 206.6803136 ),\n",
       "       ( -85,   85, 238.18019986, 5015.10101948, -1., 194.31625366, 206.98691703),\n",
       "       ( -85,   95, 238.18019986, 1808.58765309, -1.,  69.58648682,  74.64535232),\n",
       "       ( -75,   75, 238.18019986, 2727.32694017, -1., 104.69271088, 112.56423209),\n",
       "       ( -75,   85, 238.18019986, 2795.90910098, -1., 108.34603882, 115.39480518),\n",
       "       ( -75,   95, 238.18019986,  940.28967299, -1.,  36.56225967,  38.80832306),\n",
       "       ( -95,   75, 240.11665434, 1903.21760438, -1.,  56.49243927,  60.7178411 ),\n",
       "       ( -95,   85, 240.11665434, 1518.30824965, -1.,  45.3371048 ,  48.43818113),\n",
       "       ( -85,   75, 240.11665434, 3478.6784185 , -1., 104.02327728, 110.97934518),\n",
       "       ( -85,   85, 240.11665434, 2991.81285606, -1.,  89.55822754,  95.44700364),\n",
       "       ( -75,   75, 240.11665434, 1247.59125917, -1.,  36.99646759,  39.80156954),\n",
       "       ( -75,   85, 240.11665434, 1210.01542206, -1.,  36.22621918,  38.60279768),\n",
       "       ( -85,   75, 242.10895094, 2955.34538205, -1.,  45.01416397,  48.05007415),\n",
       "       ( -85,   85, 242.10895094, 2280.21455447, -1.,  34.76764297,  37.07332452),\n",
       "       ( -85,   75, 244.16389109, 3663.51009548, -1.,  34.54451752,  36.89475126),\n",
       "       ( -85,   85, 244.16389109, 3212.58622849, -1.,  30.29259872,  32.31911835)],\n",
       "      dtype=[('X', '<i8'), ('Y', '<i8'), ('Z', '<f8'), ('E', '<f8'), ('Ec', '<f8'), ('Q', '<f8'), ('Qc', '<f8')])"
      ]
     },
     "execution_count": 32,
     "metadata": {},
     "output_type": "execute_result"
    }
   ],
   "source": [
    "hits"
   ]
  },
  {
   "cell_type": "code",
   "execution_count": null,
   "metadata": {},
   "outputs": [],
   "source": []
  },
  {
   "cell_type": "code",
   "execution_count": null,
   "metadata": {},
   "outputs": [],
   "source": []
  },
  {
   "cell_type": "code",
   "execution_count": null,
   "metadata": {},
   "outputs": [],
   "source": []
  },
  {
   "cell_type": "code",
   "execution_count": null,
   "metadata": {},
   "outputs": [],
   "source": []
  },
  {
   "cell_type": "code",
   "execution_count": null,
   "metadata": {},
   "outputs": [],
   "source": []
  },
  {
   "cell_type": "code",
   "execution_count": null,
   "metadata": {},
   "outputs": [],
   "source": []
  },
  {
   "cell_type": "code",
   "execution_count": null,
   "metadata": {},
   "outputs": [],
   "source": []
  },
  {
   "cell_type": "code",
   "execution_count": null,
   "metadata": {},
   "outputs": [],
   "source": []
  }
 ],
 "metadata": {
  "kernelspec": {
   "display_name": "Python 3",
   "language": "python",
   "name": "python3"
  },
  "language_info": {
   "codemirror_mode": {
    "name": "ipython",
    "version": 3
   },
   "file_extension": ".py",
   "mimetype": "text/x-python",
   "name": "python",
   "nbconvert_exporter": "python",
   "pygments_lexer": "ipython3",
   "version": "3.7.4"
  }
 },
 "nbformat": 4,
 "nbformat_minor": 2
}
