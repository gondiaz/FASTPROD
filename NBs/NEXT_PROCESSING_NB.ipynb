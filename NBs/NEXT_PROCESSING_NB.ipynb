{
 "cells": [
  {
   "cell_type": "code",
   "execution_count": 1,
   "metadata": {},
   "outputs": [],
   "source": [
    "import glob\n",
    "import numpy  as np\n",
    "import tables as tb\n",
    "\n",
    "import matplotlib.pyplot as plt\n",
    "import warnings\n",
    "warnings.simplefilter(action='ignore', category=FutureWarning)\n",
    "\n",
    "# general IC imports\n",
    "from invisible_cities.database          import load_db\n",
    "from invisible_cities.core.system_of_units_c import units\n",
    "adc, pes, mus = units.adc, units.pes, units.mus\n",
    "NN = -999999\n",
    "\n",
    "# IRENE\n",
    "from invisible_cities.cities.components import deconv_pmt\n",
    "from invisible_cities.cities.components import calibrate_pmts\n",
    "from invisible_cities.cities.components import calibrate_sipms\n",
    "\n",
    "from invisible_cities.cities.components import deconv_pmt\n",
    "from invisible_cities.cities.components import calibrate_pmts\n",
    "from invisible_cities.cities.components import calibrate_sipms\n",
    "from invisible_cities.cities.components import zero_suppress_wfs\n",
    "\n",
    "from invisible_cities.reco.peak_functions import split_in_peaks\n",
    "from invisible_cities.reco.peak_functions import select_peaks\n",
    "from invisible_cities.reco.peak_functions import select_wfs_above_time_integrated_thr\n",
    "from invisible_cities.reco.peak_functions import pick_slice_and_rebin\n",
    "\n",
    "from invisible_cities.types.ic_types import minmax\n",
    "\n",
    "# PENTHESILEA\n",
    "from invisible_cities.reco.peak_functions import rebin_times_and_waveforms\n",
    "\n",
    "# ESMERALDA\n",
    "from invisible_cities.reco.corrections_new import read_maps\n",
    "from invisible_cities.reco.corrections_new import apply_all_correction\n",
    "from invisible_cities.reco.corrections_new import norm_strategy"
   ]
  },
  {
   "cell_type": "markdown",
   "metadata": {},
   "source": [
    "## General cut parameters"
   ]
  },
  {
   "cell_type": "code",
   "execution_count": 2,
   "metadata": {},
   "outputs": [],
   "source": [
    "# S1 selection\n",
    "s1emin = 40\n",
    "s1wmin = 175\n",
    "\n",
    "nS1s = 1\n",
    "nS2s = 1"
   ]
  },
  {
   "cell_type": "markdown",
   "metadata": {},
   "source": [
    "## Import raw waveforms"
   ]
  },
  {
   "cell_type": "code",
   "execution_count": 3,
   "metadata": {},
   "outputs": [],
   "source": [
    "run = 7430\n",
    "wfs_dir        = f\"/home/gdiaz/Verify_IRENENB_corrections/DATA/{run}/rwf/\"\n",
    "wfs_files = glob.glob( wfs_dir + \"/*\" )\n",
    "wfs_files.sort()"
   ]
  },
  {
   "cell_type": "markdown",
   "metadata": {},
   "source": [
    "# IRENE"
   ]
  },
  {
   "cell_type": "markdown",
   "metadata": {},
   "source": [
    "## Configuration Parameters"
   ]
  },
  {
   "cell_type": "code",
   "execution_count": 4,
   "metadata": {},
   "outputs": [],
   "source": [
    "files_in  = wfs_files\n",
    "file_out  = \"\"\n",
    "\n",
    "run_number = 7430\n",
    "assert run_number==run\n",
    "n_baseline = 62400 \n",
    "\n",
    "n_mau   = 100\n",
    "thr_mau =   3 * adc\n",
    "\n",
    "thr_csum_s1 = 0.5 * pes\n",
    "thr_csum_s2 = 2.0 * pes\n",
    "\n",
    "thr_sipm   = 1.0 * pes    \n",
    "thr_sipm_type = \"Common\"\n",
    "\n",
    "s1_tmin   =   0 * mus \n",
    "s1_tmax   = 790 * mus \n",
    "s1_stride =   4       \n",
    "s1_lmin   =   5       \n",
    "s1_lmax   =  30      \n",
    "s1_rebin_stride = 1\n",
    "\n",
    "s2_tmin   =      0 * mus \n",
    "s2_tmax   =   1601 * mus \n",
    "s2_stride =     40      \n",
    "s2_lmin   =     80       \n",
    "s2_lmax   = 200000       \n",
    "s2_rebin_stride = 40   \n",
    "\n",
    "thr_sipm_s2 = 5 * pes  \n",
    "\n",
    "detector_db = \"new\" ## Added by me\n",
    "\n",
    "if thr_sipm_type.lower() == \"common\": \n",
    "    sipm_thr = thr_sipm"
   ]
  },
  {
   "cell_type": "markdown",
   "metadata": {},
   "source": [
    "### Select file and waveform"
   ]
  },
  {
   "cell_type": "code",
   "execution_count": 5,
   "metadata": {},
   "outputs": [],
   "source": [
    "file_number = 0\n",
    "\n",
    "RWFs_file = tb.open_file(files_in[file_number])\n",
    "pmt_rwfs_all  = RWFs_file.root.RD.pmtrwf\n",
    "sipm_rwfs_all = RWFs_file.root.RD.sipmrwf\n",
    "time_stamps   = RWFs_file.root.Run.events\n",
    "\n",
    "#select random waveform\n",
    "i = int( np.random.random()* (len(time_stamps) - 1) )\n",
    "# i = 51\n",
    "event_time = time_stamps[i]\n",
    "\n",
    "\n",
    "pmt_rwfs  = pmt_rwfs_all [i]\n",
    "sipm_rwfs = sipm_rwfs_all[i]\n",
    "\n",
    "RWFs_file.close()"
   ]
  },
  {
   "cell_type": "markdown",
   "metadata": {},
   "source": [
    "### PMT processing"
   ]
  },
  {
   "cell_type": "code",
   "execution_count": 6,
   "metadata": {},
   "outputs": [],
   "source": [
    "rwf_to_cwf = deconv_pmt    (detector_db, run_number, n_baseline)\n",
    "pmt_cwfs   = rwf_to_cwf    (pmt_rwfs)"
   ]
  },
  {
   "cell_type": "code",
   "execution_count": 7,
   "metadata": {},
   "outputs": [],
   "source": [
    "cwf_to_ccwf = calibrate_pmts(detector_db, run_number, n_mau, thr_mau)\n",
    "pmt_ccwfs, ccwfs_mau, cwf_sum, cwf_sum_mau  = cwf_to_ccwf    (pmt_cwfs)"
   ]
  },
  {
   "cell_type": "code",
   "execution_count": 8,
   "metadata": {},
   "outputs": [],
   "source": [
    "pmt_ids = np.arange(12)\n",
    "\n",
    "npmts = pmt_ccwfs.shape[0]\n",
    "c = np.zeros(npmts)\n",
    "c[pmt_ids] = 1\n",
    "\n",
    "pmt_ccwfs = np.multiply( c, pmt_ccwfs.T ).T"
   ]
  },
  {
   "cell_type": "markdown",
   "metadata": {},
   "source": [
    "### SIPM processing"
   ]
  },
  {
   "cell_type": "code",
   "execution_count": 9,
   "metadata": {},
   "outputs": [],
   "source": [
    "sipm_rwf_to_cal = calibrate_sipms(detector_db, run_number, sipm_thr)\n",
    "sipm_cwfs = sipm_rwf_to_cal(sipm_rwfs)"
   ]
  },
  {
   "cell_type": "markdown",
   "metadata": {},
   "source": [
    "### Find S1 and S2 peaks (IRENE)"
   ]
  },
  {
   "cell_type": "code",
   "execution_count": 10,
   "metadata": {},
   "outputs": [],
   "source": [
    "zero_suppress = zero_suppress_wfs(thr_csum_s1, thr_csum_s2)\n",
    "s1_indices, s2_indices = zero_suppress(cwf_sum, cwf_sum_mau)"
   ]
  },
  {
   "cell_type": "code",
   "execution_count": 11,
   "metadata": {},
   "outputs": [
    {
     "name": "stdout",
     "output_type": "stream",
     "text": [
      "Number of S1 candidates: 1\n"
     ]
    }
   ],
   "source": [
    "indices_split   = split_in_peaks(s1_indices, s1_stride)\n",
    "    \n",
    "time    = minmax(min = s1_tmin, max = s1_tmax)\n",
    "length  = minmax(min = s1_lmin, max = s1_lmax)\n",
    "    \n",
    "s1_selected_splits = select_peaks  (indices_split, time, length)\n",
    "\n",
    "print(\"Number of S1 candidates:\", len(s1_selected_splits))"
   ]
  },
  {
   "cell_type": "code",
   "execution_count": 12,
   "metadata": {},
   "outputs": [
    {
     "name": "stdout",
     "output_type": "stream",
     "text": [
      "Number of S2 candidates: 1\n"
     ]
    }
   ],
   "source": [
    "indices_split   = split_in_peaks(s2_indices, s2_stride)\n",
    "    \n",
    "time    = minmax(min = s2_tmin, max = s2_tmax)\n",
    "length  = minmax(min = s2_lmin, max = s2_lmax)\n",
    "    \n",
    "s2_selected_splits = select_peaks  (indices_split, time, length)\n",
    "\n",
    "print(\"Number of S2 candidates:\", len(s2_selected_splits))"
   ]
  },
  {
   "cell_type": "markdown",
   "metadata": {},
   "source": [
    "### S1 and S2 cuts"
   ]
  },
  {
   "cell_type": "code",
   "execution_count": 13,
   "metadata": {},
   "outputs": [],
   "source": [
    "# S1 cuts\n",
    "if len(s1_selected_splits)==0:\n",
    "    raise Exception(\"No S1 in event\")\n",
    "    \n",
    "s1es, s1ws = [], []\n",
    "for ss in s1_selected_splits:\n",
    "    s1_pmt = np.sum( pmt_ccwfs[:, ss[0]: ss[-1]], axis=0)\n",
    "    s1es.append( np.sum(s1_pmt)    )\n",
    "    s1ws.append( (ss[-1]-ss[0])*25 )\n",
    "s1es, s1ws = np.array(s1es), np.array(s1ws)\n",
    "\n",
    "sel = (s1es>=s1emin) & (s1ws>=s1wmin)\n",
    "idxs = np.argwhere(sel).flatten()\n",
    "\n",
    "if len(idxs)==0:\n",
    "    raise Exception(\"No S1 pass the cut\")\n",
    "elif len(idxs)>1:\n",
    "    raise Exception(\"More than 1S1 pass the cut\")\n",
    "else:\n",
    "    idx = idxs[0]\n",
    "    s1_pmt = np.sum( pmt_ccwfs[:, s1_selected_splits[idx][0]: s1_selected_splits[idx][-1]], axis=0)\n",
    "    times  = np.arange(s1_selected_splits[idx][0], s1_selected_splits[idx][-1])*25\n",
    "\n",
    "    S1_time = times[np.argmax(s1_pmt)]\n",
    "    \n",
    "# S2 cut\n",
    "if len(s2_selected_splits)>nS1s:\n",
    "    raise Exception(\"More that 1S2\")"
   ]
  },
  {
   "cell_type": "markdown",
   "metadata": {},
   "source": [
    "### Select and process S2 RWFs"
   ]
  },
  {
   "cell_type": "code",
   "execution_count": 14,
   "metadata": {},
   "outputs": [],
   "source": [
    "times  = np.arange     (pmt_ccwfs.shape[1]) * 25 * units.ns\n",
    "widths = np.full       (pmt_ccwfs.shape[1],   25 * units.ns)\n",
    "\n",
    "indices = s2_selected_splits[0]\n",
    "wfs     = pmt_ccwfs\n",
    "\n",
    "with_sipms = True\n",
    "\n",
    "times, rebinned_widths, s2_pmts = pick_slice_and_rebin(indices, times, widths,\n",
    "                                                       wfs, \n",
    "                                                       rebin_stride = s2_rebin_stride, \n",
    "                                                       pad_zeros    = with_sipms)"
   ]
  },
  {
   "cell_type": "code",
   "execution_count": 15,
   "metadata": {},
   "outputs": [],
   "source": [
    "s2_sipms = sipm_cwfs[:, s2_selected_splits[0][0] //40 : s2_selected_splits[0][-1]//40 + 1]\n",
    "\n",
    "# thr_sipm_s2\n",
    "sipm_ids, s2_sipms = select_wfs_above_time_integrated_thr(s2_sipms, thr_sipm_s2)"
   ]
  },
  {
   "cell_type": "code",
   "execution_count": 16,
   "metadata": {},
   "outputs": [],
   "source": [
    "#float32\n",
    "\n",
    "s2_pmts  = np.float32( s2_pmts )\n",
    "s2_sipms = np.float32( s2_sipms)\n",
    "times    = np.float32( times   )"
   ]
  },
  {
   "cell_type": "markdown",
   "metadata": {},
   "source": [
    "# PENTHESILEA"
   ]
  },
  {
   "cell_type": "code",
   "execution_count": 17,
   "metadata": {},
   "outputs": [],
   "source": [
    "qth = 5 * pes\n",
    "\n",
    "rebin = 2"
   ]
  },
  {
   "cell_type": "markdown",
   "metadata": {},
   "source": [
    "## PMT RWFs Rebinning"
   ]
  },
  {
   "cell_type": "code",
   "execution_count": 18,
   "metadata": {},
   "outputs": [],
   "source": [
    "# Rebin\n",
    "\n",
    "_, _, s2_sipms    = rebin_times_and_waveforms(times, rebinned_widths, s2_sipms,\n",
    "                                              rebin_stride=rebin, slices=None)\n",
    "\n",
    "times, _, s2_pmts = rebin_times_and_waveforms(times, rebinned_widths, s2_pmts,\n",
    "                                              rebin_stride=rebin, slices=None)"
   ]
  },
  {
   "cell_type": "markdown",
   "metadata": {},
   "source": [
    "### Charge cut"
   ]
  },
  {
   "cell_type": "code",
   "execution_count": 19,
   "metadata": {},
   "outputs": [],
   "source": [
    "s2_pmts_penth = np.copy( s2_pmts )\n",
    "\n",
    "sel = (s2_sipms >= qth)\n",
    "s2_sipms_penth = np.where(sel, s2_sipms, 0)\n",
    "\n",
    "no_pass_cut_slices = ~sel.any(axis=0)"
   ]
  },
  {
   "cell_type": "markdown",
   "metadata": {},
   "source": [
    "### Create hits"
   ]
  },
  {
   "cell_type": "code",
   "execution_count": 20,
   "metadata": {},
   "outputs": [],
   "source": [
    "datasipm = load_db.DataSiPM(\"new\", run)\n",
    "sipm_xs  = datasipm.X.values\n",
    "sipm_ys  = datasipm.Y.values\n",
    "n_sipms = len(sipm_ids)\n",
    "\n",
    "X, Y = sipm_xs[sipm_ids], sipm_ys[sipm_ids]\n",
    "T = (times - S1_time)/1000"
   ]
  },
  {
   "cell_type": "code",
   "execution_count": 21,
   "metadata": {},
   "outputs": [],
   "source": [
    "E_per_slice = np.sum( s2_pmts_penth, axis=0)\n",
    "\n",
    "hits = []\n",
    "nn_hits = []\n",
    "for t, e, q in zip(T, E_per_slice, s2_sipms_penth.T):\n",
    "    if np.sum(q)==0:\n",
    "        nn_hits.append( (0, 0, t, e, NN, -1) )\n",
    "    else:\n",
    "        E = e * q / np.sum(q)\n",
    "        hits.append( (X, Y, np.full( n_sipms, t), E, q, np.full( n_sipms, -1) ) )\n",
    "\n",
    "hits = np.array( hits )\n",
    "hits = np.swapaxes(hits, axis1=1, axis2=2)\n",
    "hits = np.concatenate( hits )"
   ]
  },
  {
   "cell_type": "code",
   "execution_count": 22,
   "metadata": {},
   "outputs": [],
   "source": [
    "H = np.array(np.zeros(np.shape(hits)[0]), \n",
    "             dtype=[(\"X\", int)  , (\"Y\", int)  , (\"Z\", float), \n",
    "                    (\"E\", float), (\"Q\", float), (\"Ec\",float)])\n",
    "\n",
    "H[\"X\"] = hits[:, 0]\n",
    "H[\"Y\"] = hits[:, 1]\n",
    "H[\"Z\"] = hits[:, 2]\n",
    "H[\"E\"] = hits[:, 3]\n",
    "H[\"Q\"] = hits[:, 4]\n",
    "H[\"Ec\"] = -1\n",
    "\n",
    "#remove 0 charge hits and insert NN\n",
    "sel = ~(H[\"Q\"]==0)\n",
    "H = np.insert( H[sel], 0, nn_hits)\n",
    "H = np.sort( H, order=\"Z\")\n",
    "\n",
    "hits = H"
   ]
  },
  {
   "cell_type": "markdown",
   "metadata": {},
   "source": [
    "# ESMERALDA"
   ]
  },
  {
   "cell_type": "code",
   "execution_count": 23,
   "metadata": {},
   "outputs": [],
   "source": [
    "qth = 30"
   ]
  },
  {
   "cell_type": "code",
   "execution_count": 24,
   "metadata": {},
   "outputs": [],
   "source": [
    "sel = (hits[\"Q\"]>=qth)\n",
    "hits[\"Q\"][~sel] = 0\n",
    "\n",
    "slides = np.unique( hits[\"Z\"] )\n",
    "for slide in slides:\n",
    "    sel = (hits[\"Z\"]==slide)\n",
    "    slide_hits = hits[sel]\n",
    "    \n",
    "    q = slide_hits[\"Q\"]\n",
    "    e = slide_hits[\"E\"]\n",
    "    \n",
    "    if np.sum( q ) == 0:\n",
    "        idxs = np.argwhere(sel).flatten()\n",
    "        hits = np.delete(hits, idxs)\n",
    "        hits = np.insert(hits, 0, (0, 0, slide, np.sum(e), NN, -1))\n",
    "        \n",
    "    else:\n",
    "        hits[\"E\"][sel] = np.sum( e ) * q / np.sum(q)\n",
    "        \n",
    "sel = (hits[\"Q\"]==0)\n",
    "hits = np.delete( hits, np.argwhere(sel))\n",
    "hits = np.sort(hits, order=\"Z\")"
   ]
  },
  {
   "cell_type": "code",
   "execution_count": 25,
   "metadata": {},
   "outputs": [],
   "source": [
    "# JOIN NN hits\n",
    "\n",
    "sel = (hits[\"Q\"]==NN)\n",
    "\n",
    "nn_hits = hits[ sel]\n",
    "hits    = hits[~sel]\n",
    "\n",
    "slides = np.unique( hits[\"Z\"] )\n",
    "\n",
    "for nn_hit in nn_hits:\n",
    "    \n",
    "    #select slide to append\n",
    "    d = np.abs( slides - nn_hit[\"Z\"] ) \n",
    "    \n",
    "    slide = slides[ np.argmin( d ) ]\n",
    "    slide_hits = hits[hits[\"Z\"]==slide]\n",
    "    \n",
    "    #new energy \n",
    "    new_E = np.sum(slide_hits[\"E\"]) + nn_hit[\"E\"]\n",
    "    \n",
    "    q = hits[hits[\"Z\"]==slide][\"Q\"]\n",
    "    Q = np.sum( q )\n",
    "    \n",
    "    hits[\"E\"][hits[\"Z\"] == slide] = new_E * q / Q"
   ]
  },
  {
   "cell_type": "markdown",
   "metadata": {},
   "source": [
    "### Corrections"
   ]
  },
  {
   "cell_type": "code",
   "execution_count": 26,
   "metadata": {},
   "outputs": [],
   "source": [
    "map_file = glob.glob( f\"/home/gdiaz/Verify_IRENENB_corrections/DATA/{run}/map_*\")[0]\n",
    "maps = read_maps( map_file )\n",
    "\n",
    "total_correction = apply_all_correction(maps, apply_temp=True,\n",
    "                                        norm_strat=norm_strategy.kr)"
   ]
  },
  {
   "cell_type": "code",
   "execution_count": 32,
   "metadata": {},
   "outputs": [],
   "source": [
    "X = hits[\"X\"]\n",
    "Y = hits[\"Y\"]\n",
    "Z = hits[\"Z\"]\n",
    "E = hits[\"E\"]\n",
    "Q = hits[\"Q\"]\n",
    "\n",
    "T = np.full(len(hits), event_time[-1]/1000)\n",
    "\n",
    "correction_factor = total_correction(X, Y, Z, T)\n",
    "Ec = correction_factor * E\n",
    "\n",
    "hits[\"Ec\"] = Ec\n",
    "hits[\"Z\"]  = Z * maps.t_evol.dv.mean()"
   ]
  },
  {
   "cell_type": "code",
   "execution_count": 33,
   "metadata": {},
   "outputs": [
    {
     "data": {
      "text/plain": [
       "array([(175,  65, 78.96594532,  308.87434381,  20.02371025, 0.00153039),\n",
       "       (175,  75, 78.96594532,  160.74261893,  10.42062473, 0.00081639),\n",
       "       (185,  55, 78.96594532,  162.35931045,  10.52543163, 0.00088885),\n",
       "       (185,  65, 78.96594532,  314.11040128,  20.36315346, 0.00128843),\n",
       "       (185,  75, 78.96594532,  141.04169009,   9.14345264, 0.00057853),\n",
       "       (115,  55, 80.36097989,   60.74869157,   5.06767178, 0.00024037),\n",
       "       (135,  85, 80.36097989,   74.85610492,   6.2445159 , 0.00032337),\n",
       "       (145,  45, 80.36097989,   85.67223187,   7.14680004, 0.00037124),\n",
       "       (145,  65, 80.36097989,   90.76633661,   7.57175159, 0.00039967),\n",
       "       (145,  75, 80.36097989,   87.22358256,   7.27621412, 0.00038949),\n",
       "       (155,  55, 80.36097989,  155.30902124,  12.95591927, 0.0006946 ),\n",
       "       (155,  65, 80.36097989,  118.97533291,   9.92495346, 0.00053885),\n",
       "       (155,  75, 80.36097989,  117.21988947,   9.77851391, 0.00054186),\n",
       "       (155,  85, 80.36097989,  136.59148962,  11.39449787, 0.00064454),\n",
       "       (165,  25, 80.36097989,  154.01864975,  12.84827614, 0.00068314),\n",
       "       (165,  45, 80.36097989,  132.19711348,  11.02791786, 0.00060235),\n",
       "       (165,  55, 80.36097989,  242.5210173 ,  20.23116684, 0.00111926),\n",
       "       (165,  65, 80.36097989,  543.08753326,  45.30450439, 0.00257662),\n",
       "       (165,  75, 80.36097989,  418.77653393,  34.93444824, 0.00203118),\n",
       "       (165,  85, 80.36097989,  130.22312131,  10.86324692, 0.00064754),\n",
       "       (175,  45, 80.36097989,  195.22822564,  16.28598976, 0.00092369),\n",
       "       (175,  55, 80.36097989,  922.1570438 ,  76.92658234, 0.00445596),\n",
       "       (175,  65, 80.36097989, 2855.25031744, 238.18572998, 0.01415123),\n",
       "       (175,  75, 80.36097989, 1798.53146226, 150.03396606, 0.00913741),\n",
       "       (175,  85, 80.36097989,  406.91749046,  33.94516373, 0.00214182),\n",
       "       (175,  95, 80.36097989,   97.65356522,   8.14628601, 0.00054044),\n",
       "       (185,  35, 80.36097989,   74.74556159,   6.23529434, 0.00038869),\n",
       "       (185,  45, 80.36097989,  100.56261715,   8.38895988, 0.00053238),\n",
       "       (185,  55, 80.36097989,  971.13381644,  81.01223755, 0.00531809),\n",
       "       (185,  65, 80.36097989, 3105.49623247, 259.06130981, 0.01274132),\n",
       "       (185,  75, 80.36097989, 2183.5060983 , 182.14865112, 0.00895855),\n",
       "       (185,  85, 80.36097989,  590.97706115,  49.29946136,        nan),\n",
       "       (185,  95, 80.36097989,  119.36454102,   9.9574213 ,        nan),\n",
       "       (195,  35, 80.36097989,   72.13643255,   6.01764011, 0.00029596),\n",
       "       (195,  45, 80.36097989,  126.61769041,  10.56248093, 0.00051949),\n",
       "       (195,  55, 80.36097989,  374.07804378,  31.20568848, 0.00153478),\n",
       "       (195,  65, 80.36097989,  766.77570268,  63.96463013,        nan),\n",
       "       (195,  75, 80.36097989,  507.90312062,  42.36941147,        nan),\n",
       "       (195,  85, 80.36097989,  205.15868551,  17.11439133,        nan),\n",
       "       (195,  95, 80.36097989,  100.41780589,   8.37687969,        nan),\n",
       "       (195, 105, 80.36097989,   93.7945803 ,   7.82436848,        nan),\n",
       "       (205,  45, 80.36097989,   94.95457936,   7.9211359 ,        nan),\n",
       "       (205,  55, 80.36097989,  127.60285735,  10.64466381,        nan),\n",
       "       (205,  65, 80.36097989,  174.54409846,  14.56051445,        nan),\n",
       "       (205,  75, 80.36097989,  231.5674014 ,  19.31741333,        nan),\n",
       "       (205,  85, 80.36097989,  233.20204114,  19.45377541,        nan),\n",
       "       (215,  75, 80.36097989,   79.13747409,   6.60166883,        nan),\n",
       "       (-95, -15, 81.68555449,   66.47416132,   5.18144321, 0.00023243),\n",
       "       (-15,   5, 81.68555449,   72.49682786,   5.65089035, 0.00025586),\n",
       "       (135,  35, 81.68555449,   66.15234543,   5.15635872, 0.00027062),\n",
       "       (135,  85, 81.68555449,   87.70950205,   6.83666849, 0.00037898),\n",
       "       (145,  65, 81.68555449,   78.63720685,   6.12951279, 0.00034635),\n",
       "       (145,  85, 81.68555449,  116.94872704,   9.11577034, 0.00053062),\n",
       "       (145,  95, 81.68555449,  107.25537965,   8.36020565, 0.00049688),\n",
       "       (155,  55, 81.68555449,  160.08732666,  12.47828293, 0.00071613),\n",
       "       (155,  65, 81.68555449,  225.61975162,  17.58632088, 0.00102213),\n",
       "       (155,  75, 81.68555449,  196.25808536,  15.29767513, 0.00090746),\n",
       "       (155,  85, 81.68555449,  181.02472799,  14.11028481, 0.00085445),\n",
       "       (165,   5, 81.68555449,   99.26486818,   7.73737144, 0.00043185),\n",
       "       (165,  25, 81.68555449,   85.89944514,   6.69558048, 0.00038109),\n",
       "       (165,  35, 81.68555449,  167.69602204,  13.07135582, 0.00075308),\n",
       "       (165,  45, 81.68555449,  144.45873145,  11.26008511, 0.00065837),\n",
       "       (165,  55, 81.68555449,  319.12034318,  24.87438583, 0.00147313),\n",
       "       (165,  65, 81.68555449,  778.02841966,  60.64476776, 0.00369215),\n",
       "       (165,  75, 81.68555449,  560.41915918,  43.68283844, 0.00271885),\n",
       "       (165,  85, 81.68555449,  226.00148207,  17.61607552, 0.00112408),\n",
       "       (165,  95, 81.68555449,  147.43013596,  11.49169636, 0.00075523),\n",
       "       (175,  15, 81.68555449,   75.80911032,   5.90907192, 0.00034047),\n",
       "       (175,  35, 81.68555449,   90.75501976,   7.07405663, 0.00042145),\n",
       "       (175,  45, 81.68555449,  245.11389374,  19.10582542, 0.00116   ),\n",
       "       (175,  55, 81.68555449, 1023.49176805,  79.77783203, 0.00494678),\n",
       "       (175,  65, 81.68555449, 3670.68477303, 286.11785889, 0.0181979 ),\n",
       "       (175,  75, 81.68555449, 2757.24452347, 214.91818237, 0.01401242),\n",
       "       (175,  85, 81.68555449,  574.66964629,  44.79361725, 0.00302579),\n",
       "       (175,  95, 81.68555449,  170.47886149,  13.28826904, 0.0009437 ),\n",
       "       (175, 105, 81.68555449,  102.39761497,   7.9815588 , 0.00042022),\n",
       "       (185,  25, 81.68555449,  135.54517862,  10.56530285, 0.00068824),\n",
       "       (185,  45, 81.68555449,  159.1301865 ,  12.40367699, 0.0008427 ),\n",
       "       (185,  55, 81.68555449, 1310.11378299, 102.11907959, 0.0071764 ),\n",
       "       (185,  65, 81.68555449, 4763.78225017, 371.32122803, 0.01954951),\n",
       "       (185,  75, 81.68555449, 2911.97964664, 226.97927856, 0.01195012),\n",
       "       (185,  85, 81.68555449,  821.68516942,  64.04766846,        nan),\n",
       "       (185,  95, 81.68555449,  214.7395284 ,  16.7382431 ,        nan),\n",
       "       (185, 105, 81.68555449,  139.97761972,  10.91079712,        nan),\n",
       "       (195,  25, 81.68555449,   66.46656342,   5.18085098, 0.00027276),\n",
       "       (195,  35, 81.68555449,   69.8493926 ,   5.44453144, 0.00028665),\n",
       "       (195,  45, 81.68555449,  250.17042742,  19.49996567, 0.00102664),\n",
       "       (195,  55, 81.68555449,  471.21061267,  36.72932434, 0.00193374),\n",
       "       (195,  65, 81.68555449, 1186.68427616,  92.49815369,        nan),\n",
       "       (195,  75, 81.68555449,  798.08512479,  62.20812225,        nan),\n",
       "       (195,  85, 81.68555449,  330.91615667,  25.79383087,        nan),\n",
       "       (195,  95, 81.68555449,  112.58688161,   8.77577877,        nan),\n",
       "       (205,  35, 81.68555449,   83.23409792,   6.48782539,        nan),\n",
       "       (205,  45, 81.68555449,  130.16024664,  10.14556503,        nan),\n",
       "       (205,  55, 81.68555449,  298.96296888,  23.30318451,        nan),\n",
       "       (205,  65, 81.68555449,  316.17773975,  24.64501953,        nan),\n",
       "       (205,  75, 81.68555449,  290.83394553,  22.66955376,        nan),\n",
       "       (205,  85, 81.68555449,  143.90073207,  11.21659088,        nan),\n",
       "       (205,  95, 81.68555449,   99.3046807 ,   7.7404747 ,        nan),\n",
       "       (205, 105, 81.68555449,   68.08015761,   5.30662537,        nan),\n",
       "       (205, 115, 81.68555449,   85.08206482,   6.63186836,        nan),\n",
       "       (215,  45, 81.68555449,  132.79799181,  10.35116863,        nan),\n",
       "       (215,  55, 81.68555449,  147.52921459,  11.49941921,        nan),\n",
       "       (215,  65, 81.68555449,  123.27508952,   9.60888958,        nan),\n",
       "       (215,  75, 81.68555449,  115.27880314,   8.98560524,        nan),\n",
       "       (215,  85, 81.68555449,  106.31122077,   8.28661156,        nan),\n",
       "       (215,  95, 81.68555449,   64.41188704,   5.02069569,        nan),\n",
       "       (225,  55, 81.68555449,   69.22659693,   5.39598656,        nan),\n",
       "       (225,  75, 81.68555449,   78.61862808,   6.12806463,        nan),\n",
       "       (235,  45, 81.68555449,   64.74264668,   5.04647732,        nan),\n",
       "       (155,  65, 83.28030377,   73.4672333 ,   5.04953766, 0.00033294),\n",
       "       (165,  55, 83.28030377,  165.67199501,  11.38694   , 0.00076499),\n",
       "       (165,  65, 83.28030377,  221.45315573,  15.22088146, 0.00105121),\n",
       "       (165,  75, 83.28030377,  170.28392033,  11.70392609, 0.00082637),\n",
       "       (165,  85, 83.28030377,   86.28818423,   5.93074512, 0.00042931),\n",
       "       (175,  45, 83.28030377,   88.75148577,   6.10005236, 0.00042014),\n",
       "       (175,  55, 83.28030377,  383.30859882,  26.34550285, 0.00185314),\n",
       "       (175,  65, 83.28030377, 1150.46845917,  79.07380676, 0.00570557),\n",
       "       (175,  75, 83.28030377,  670.11170569,  46.05800629, 0.00340679),\n",
       "       (175,  85, 83.28030377,  231.66456646,  15.92273045, 0.00122026),\n",
       "       (185,  55, 83.28030377,  340.48691995,  23.40229034, 0.00186571),\n",
       "       (185,  65, 83.28030377, 1489.83714152, 102.39923859, 0.00611567),\n",
       "       (185,  75, 83.28030377, 1085.20907206,  74.58840942, 0.0044547 ),\n",
       "       (185,  85, 83.28030377,  174.77571336,  12.01265526,        nan),\n",
       "       (195,  55, 83.28030377,  125.93280956,   8.65559292, 0.00051694),\n",
       "       (195,  65, 83.28030377,  265.89728646,  18.27560806,        nan),\n",
       "       (195,  75, 83.28030377,  175.39739586,  12.05538464,        nan),\n",
       "       (205,  55, 83.28030377,   87.90054875,   6.0415659 ,        nan),\n",
       "       (205,  65, 83.28030377,   90.23040467,   6.20170116,        nan),\n",
       "       (155,  75, 85.03591842,  155.0251617 ,   8.69867802, 0.00071727),\n",
       "       (165,  55, 85.03591842,  121.16966411,   6.79899883, 0.00055968),\n",
       "       (165,  65, 85.03591842,  404.23337474,  22.68209839, 0.00191945),\n",
       "       (165,  75, 85.03591842,  134.8420328 ,   7.56617451, 0.00065458),\n",
       "       (175,  55, 85.03591842,  284.55843177,  15.96697044, 0.00137615),\n",
       "       (175,  65, 85.03591842,  810.76162954,  45.4929657 , 0.00402237),\n",
       "       (175,  75, 85.03591842,  478.13444791,  26.82879066, 0.00243178),\n",
       "       (175,  85, 85.03591842,  150.72034102,   8.45712852, 0.00079424),\n",
       "       (185,  55, 85.03591842,  147.67015471,   8.28597832, 0.00080946),\n",
       "       (185,  65, 85.03591842,  651.98272838,  36.58366013, 0.00267716),\n",
       "       (185,  75, 85.03591842,  377.25809836,  21.16847801, 0.00154909),\n",
       "       (195,  75, 85.03591842,  141.8409717 ,   7.95889473,        nan),\n",
       "       (175,  65, 86.47245824,  341.98201161,  11.57177639, 0.00169718),\n",
       "       (175,  75, 86.47245824,  187.15916344,   6.33297634, 0.0009522 ),\n",
       "       (185,  65, 86.47245824,  150.01755313,   5.07620144, 0.00061615),\n",
       "       (185,  75, 86.47245824,  250.56528756,   8.47847366, 0.00102913)],\n",
       "      dtype=[('X', '<i8'), ('Y', '<i8'), ('Z', '<f8'), ('E', '<f8'), ('Q', '<f8'), ('Ec', '<f8')])"
      ]
     },
     "execution_count": 33,
     "metadata": {},
     "output_type": "execute_result"
    }
   ],
   "source": [
    "hits"
   ]
  },
  {
   "cell_type": "code",
   "execution_count": null,
   "metadata": {},
   "outputs": [],
   "source": []
  },
  {
   "cell_type": "code",
   "execution_count": null,
   "metadata": {},
   "outputs": [],
   "source": []
  },
  {
   "cell_type": "markdown",
   "metadata": {},
   "source": [
    "# CDSTs from production"
   ]
  },
  {
   "cell_type": "code",
   "execution_count": 29,
   "metadata": {},
   "outputs": [],
   "source": [
    "datadir = f\"/home/gdiaz/Verify_IRENENB_corrections/DATA/{run}/cdst/\"\n",
    "\n",
    "files = glob.glob( datadir + \"/*\")\n",
    "files.sort()\n",
    "\n",
    "h5file = tb.open_file( files[0] )"
   ]
  },
  {
   "cell_type": "code",
   "execution_count": null,
   "metadata": {},
   "outputs": [],
   "source": [
    "# event_time = h5file.root.Run.events.read()\n",
    "\n",
    "#chits   = h5file.root.CHITS.lowTh.read()\n",
    "chits_hTh   = h5file.root.CHITS.highTh.read()\n",
    "\n",
    "#tracks  = h5file.root.Tracking.Tracks.read()\n",
    "dst     = h5file.root.DST    .Events.read()\n",
    "summary = h5file.root.Summary.Events.read()"
   ]
  },
  {
   "cell_type": "code",
   "execution_count": null,
   "metadata": {},
   "outputs": [],
   "source": [
    "chits = np.sort( chits_hTh[chits_hTh[\"event\"]==event_time[0]], order=\"Z\")"
   ]
  },
  {
   "cell_type": "code",
   "execution_count": null,
   "metadata": {},
   "outputs": [],
   "source": [
    "x = (hits[\"X\"] == chits[\"X\"]).all()\n",
    "y = (hits[\"Y\"] == chits[\"Y\"]).all()\n",
    "z = np.allclose(hits[\"Z\"], chits[\"Z\"])\n",
    "\n",
    "e  = np.allclose(hits[\"E\"], chits[\"E\"])\n",
    "q  = (hits[\"Q\"]  == chits[\"Q\"] ).all()\n",
    "ec = (hits[\"Ec\"] == chits[\"Ec\"]).all()\n",
    "\n",
    "if x & y & z & e & q:\n",
    "    print(\"HITS are equal\")\n",
    "else:\n",
    "    print(\"HITS are different\")"
   ]
  },
  {
   "cell_type": "code",
   "execution_count": null,
   "metadata": {},
   "outputs": [],
   "source": [
    "chits"
   ]
  },
  {
   "cell_type": "code",
   "execution_count": null,
   "metadata": {},
   "outputs": [],
   "source": []
  },
  {
   "cell_type": "code",
   "execution_count": null,
   "metadata": {},
   "outputs": [],
   "source": [
    "i=10\n",
    "chits[[\"X\", \"Y\", \"Z\", \"E\", \"Q\", \"Ec\"]][i]"
   ]
  },
  {
   "cell_type": "code",
   "execution_count": null,
   "metadata": {},
   "outputs": [],
   "source": [
    "hits[i]"
   ]
  },
  {
   "cell_type": "code",
   "execution_count": null,
   "metadata": {},
   "outputs": [],
   "source": []
  },
  {
   "cell_type": "code",
   "execution_count": null,
   "metadata": {},
   "outputs": [],
   "source": []
  },
  {
   "cell_type": "code",
   "execution_count": null,
   "metadata": {},
   "outputs": [],
   "source": []
  },
  {
   "cell_type": "code",
   "execution_count": null,
   "metadata": {},
   "outputs": [],
   "source": []
  }
 ],
 "metadata": {
  "kernelspec": {
   "display_name": "Python 3",
   "language": "python",
   "name": "python3"
  },
  "language_info": {
   "codemirror_mode": {
    "name": "ipython",
    "version": 3
   },
   "file_extension": ".py",
   "mimetype": "text/x-python",
   "name": "python",
   "nbconvert_exporter": "python",
   "pygments_lexer": "ipython3",
   "version": "3.7.4"
  }
 },
 "nbformat": 4,
 "nbformat_minor": 2
}
