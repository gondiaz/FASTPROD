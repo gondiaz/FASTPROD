{
 "cells": [
  {
   "cell_type": "code",
   "execution_count": 1,
   "metadata": {},
   "outputs": [],
   "source": [
    "import glob\n",
    "import numpy  as np\n",
    "import tables as tb\n",
    "\n",
    "import matplotlib.pyplot as plt\n",
    "import warnings\n",
    "warnings.simplefilter(action='ignore', category=FutureWarning)\n",
    "\n",
    "# general IC imports\n",
    "from invisible_cities.database          import load_db\n",
    "from invisible_cities.core.system_of_units_c import units\n",
    "adc, pes, mus = units.adc, units.pes, units.mus\n",
    "NN = -999999\n",
    "\n",
    "# IRENE\n",
    "from invisible_cities.cities.components import deconv_pmt\n",
    "from invisible_cities.cities.components import calibrate_pmts\n",
    "from invisible_cities.cities.components import calibrate_sipms\n",
    "\n",
    "from invisible_cities.cities.components import deconv_pmt\n",
    "from invisible_cities.cities.components import calibrate_pmts\n",
    "from invisible_cities.cities.components import calibrate_sipms\n",
    "from invisible_cities.cities.components import zero_suppress_wfs\n",
    "\n",
    "from invisible_cities.reco.peak_functions import split_in_peaks\n",
    "from invisible_cities.reco.peak_functions import select_peaks\n",
    "from invisible_cities.reco.peak_functions import select_wfs_above_time_integrated_thr\n",
    "from invisible_cities.reco.peak_functions import pick_slice_and_rebin\n",
    "\n",
    "from invisible_cities.types.ic_types import minmax\n",
    "\n",
    "# PENTHESILEA\n",
    "from invisible_cities.reco.peak_functions import rebin_times_and_waveforms\n",
    "\n",
    "# ESMERALDA\n",
    "from invisible_cities.reco.corrections_new import read_maps\n",
    "from invisible_cities.reco.corrections_new import apply_all_correction\n",
    "from invisible_cities.reco.corrections_new import norm_strategy"
   ]
  },
  {
   "cell_type": "markdown",
   "metadata": {},
   "source": [
    "## General cut parameters"
   ]
  },
  {
   "cell_type": "code",
   "execution_count": 2,
   "metadata": {},
   "outputs": [],
   "source": [
    "# S1 selection\n",
    "s1emin = 40\n",
    "s1wmin = 175\n",
    "\n",
    "pmt_ids = [0, 1, 2, 3, 4, 5, 6, 7, 8, 9, 10, 11]"
   ]
  },
  {
   "cell_type": "markdown",
   "metadata": {},
   "source": [
    "## Import raw waveforms"
   ]
  },
  {
   "cell_type": "code",
   "execution_count": 3,
   "metadata": {},
   "outputs": [],
   "source": [
    "run = 7430\n",
    "wfs_dir        = f\"/home/gdiaz/Verify_IRENENB_corrections/DATA/{run}/rwf/\"\n",
    "wfs_files = glob.glob( wfs_dir + \"/*\" )\n",
    "wfs_files.sort()"
   ]
  },
  {
   "cell_type": "markdown",
   "metadata": {},
   "source": [
    "# IRENE"
   ]
  },
  {
   "cell_type": "markdown",
   "metadata": {},
   "source": [
    "## Configuration Parameters"
   ]
  },
  {
   "cell_type": "code",
   "execution_count": 4,
   "metadata": {},
   "outputs": [],
   "source": [
    "files_in  = wfs_files\n",
    "file_out  = \"\"\n",
    "\n",
    "run = 7430\n",
    "n_baseline = 62400 \n",
    "\n",
    "n_mau   = 100\n",
    "thr_mau =   3 * adc\n",
    "\n",
    "thr_csum_s1 = 0.5 * pes\n",
    "thr_csum_s2 = 2.0 * pes\n",
    "\n",
    "thr_sipm   = 1.0 * pes    \n",
    "thr_sipm_type = \"Common\"\n",
    "\n",
    "s1_tmin   =   0 * mus \n",
    "s1_tmax   = 790 * mus \n",
    "s1_stride =   4       \n",
    "s1_lmin   =   5       \n",
    "s1_lmax   =  30      \n",
    "s1_rebin_stride = 1\n",
    "\n",
    "s2_tmin   =      0 * mus \n",
    "s2_tmax   =   1601 * mus \n",
    "s2_stride =     40      \n",
    "s2_lmin   =     80       \n",
    "s2_lmax   = 200000       \n",
    "s2_rebin_stride = 40   \n",
    "\n",
    "thr_sipm_s2 = 5 * pes  \n",
    "\n",
    "detector_db = \"new\" ## Added by me\n",
    "\n",
    "if thr_sipm_type.lower() == \"common\": \n",
    "    sipm_thr = thr_sipm"
   ]
  },
  {
   "cell_type": "markdown",
   "metadata": {},
   "source": [
    "### Select file and waveform"
   ]
  },
  {
   "cell_type": "code",
   "execution_count": 5,
   "metadata": {},
   "outputs": [],
   "source": [
    "file_number = 0\n",
    "\n",
    "RWFs_file = tb.open_file(files_in[file_number])\n",
    "pmt_rwfs_all  = RWFs_file.root.RD.pmtrwf\n",
    "sipm_rwfs_all = RWFs_file.root.RD.sipmrwf\n",
    "time_stamps   = RWFs_file.root.Run.events\n",
    "\n",
    "#select random waveform\n",
    "i = int( np.random.random()* (len(time_stamps) - 1) )\n",
    "event_time = time_stamps[i]\n",
    "\n",
    "\n",
    "pmt_rwfs  = pmt_rwfs_all [i]\n",
    "sipm_rwfs = sipm_rwfs_all[i]\n",
    "\n",
    "RWFs_file.close()"
   ]
  },
  {
   "cell_type": "markdown",
   "metadata": {},
   "source": [
    "### PMT processing"
   ]
  },
  {
   "cell_type": "code",
   "execution_count": 6,
   "metadata": {},
   "outputs": [],
   "source": [
    "rwf_to_cwf = deconv_pmt    (detector_db, run, n_baseline)\n",
    "pmt_cwfs   = rwf_to_cwf    (pmt_rwfs)"
   ]
  },
  {
   "cell_type": "code",
   "execution_count": 7,
   "metadata": {},
   "outputs": [],
   "source": [
    "cwf_to_ccwf = calibrate_pmts(detector_db, run, n_mau, thr_mau)\n",
    "pmt_ccwfs, ccwfs_mau, cwf_sum, cwf_sum_mau  = cwf_to_ccwf    (pmt_cwfs)"
   ]
  },
  {
   "cell_type": "markdown",
   "metadata": {},
   "source": [
    "### SIPM processing"
   ]
  },
  {
   "cell_type": "code",
   "execution_count": 8,
   "metadata": {},
   "outputs": [],
   "source": [
    "sipm_rwf_to_cal = calibrate_sipms(detector_db, run, sipm_thr)\n",
    "sipm_cwfs = sipm_rwf_to_cal(sipm_rwfs)"
   ]
  },
  {
   "cell_type": "code",
   "execution_count": 9,
   "metadata": {},
   "outputs": [
    {
     "data": {
      "text/plain": [
       "<matplotlib.collections.PathCollection at 0x7fb7de63ea10>"
      ]
     },
     "execution_count": 9,
     "metadata": {},
     "output_type": "execute_result"
    },
    {
     "data": {
      "image/png": "[encoded data removed]",
      "text/plain": [
       "<Figure size 432x288 with 1 Axes>"
      ]
     },
     "metadata": {
      "needs_background": "light"
     },
     "output_type": "display_data"
    }
   ],
   "source": [
    "times = np.arange(sipm_cwfs.shape[1])\n",
    "plt.scatter(times, np.sum( sipm_cwfs, axis=0), color=\"black\", s=5 )"
   ]
  },
  {
   "cell_type": "code",
   "execution_count": null,
   "metadata": {},
   "outputs": [],
   "source": []
  },
  {
   "cell_type": "code",
   "execution_count": 10,
   "metadata": {},
   "outputs": [
    {
     "data": {
      "image/png": "[encoded data removed]",
      "text/plain": [
       "<Figure size 432x288 with 1 Axes>"
      ]
     },
     "metadata": {
      "needs_background": "light"
     },
     "output_type": "display_data"
    }
   ],
   "source": [
    "params = np.array( [ 6.58477685e-22,  1.50455111e-17, -2.74129372e-14,  2.03138072e-11,\n",
    "                    -7.13216271e-09,  1.83113819e-06,  4.85324372e-05,  1.00393735e+00,\n",
    "                    -1.89564238e-02] )\n",
    "params = np.flip(params)\n",
    "\n",
    "def pes_to_photons(Npes):\n",
    "    #polynomial correction\n",
    "    exp = np.array( [Npes**i for i in range(0, 9)] )\n",
    "    Nph = np.sum( np.multiply(params, exp.T).T, axis=0)\n",
    "    \n",
    "    #identity correction\n",
    "    sel = Npes<50\n",
    "    Nph[sel] = Npes[sel]\n",
    "    \n",
    "    return Nph\n",
    "\n",
    "Npes = np.arange(0, 700, dtype=np.float)\n",
    "Nph = pes_to_photons(Npes)\n",
    "\n",
    "plt.scatter( Npes, Nph, c=\"black\", s=5)\n",
    "plt.xlabel(\"Npes\")\n",
    "plt.ylabel(\"Nph\");"
   ]
  },
  {
   "cell_type": "code",
   "execution_count": 11,
   "metadata": {},
   "outputs": [],
   "source": [
    "corrsipm = pes_to_photons(sipm_cwfs)"
   ]
  },
  {
   "cell_type": "code",
   "execution_count": 12,
   "metadata": {},
   "outputs": [
    {
     "data": {
      "text/plain": [
       "<matplotlib.collections.PathCollection at 0x7fb7de543d50>"
      ]
     },
     "execution_count": 12,
     "metadata": {},
     "output_type": "execute_result"
    },
    {
     "data": {
      "image/png": "[encoded data removed]",
      "text/plain": [
       "<Figure size 432x288 with 1 Axes>"
      ]
     },
     "metadata": {
      "needs_background": "light"
     },
     "output_type": "display_data"
    }
   ],
   "source": [
    "times = np.arange(sipm_cwfs.shape[1])\n",
    "plt.scatter(times, np.sum( corrsipm, axis=0), color=\"black\", s=5 )"
   ]
  },
  {
   "cell_type": "code",
   "execution_count": null,
   "metadata": {},
   "outputs": [],
   "source": []
  },
  {
   "cell_type": "code",
   "execution_count": null,
   "metadata": {},
   "outputs": [],
   "source": []
  },
  {
   "cell_type": "code",
   "execution_count": null,
   "metadata": {},
   "outputs": [],
   "source": []
  },
  {
   "cell_type": "code",
   "execution_count": null,
   "metadata": {},
   "outputs": [],
   "source": []
  },
  {
   "cell_type": "code",
   "execution_count": null,
   "metadata": {},
   "outputs": [],
   "source": []
  },
  {
   "cell_type": "code",
   "execution_count": null,
   "metadata": {},
   "outputs": [],
   "source": []
  },
  {
   "cell_type": "code",
   "execution_count": null,
   "metadata": {},
   "outputs": [],
   "source": []
  },
  {
   "cell_type": "markdown",
   "metadata": {},
   "source": [
    "### Find S1 and S2 peaks (IRENE)"
   ]
  },
  {
   "cell_type": "code",
   "execution_count": 13,
   "metadata": {},
   "outputs": [],
   "source": [
    "zero_suppress = zero_suppress_wfs(thr_csum_s1, thr_csum_s2)\n",
    "s1_indices, s2_indices = zero_suppress(cwf_sum, cwf_sum_mau)"
   ]
  },
  {
   "cell_type": "code",
   "execution_count": 14,
   "metadata": {},
   "outputs": [
    {
     "name": "stdout",
     "output_type": "stream",
     "text": [
      "Number of S1 candidates: 1\n"
     ]
    }
   ],
   "source": [
    "indices_split   = split_in_peaks(s1_indices, s1_stride)\n",
    "    \n",
    "time    = minmax(min = s1_tmin, max = s1_tmax)\n",
    "length  = minmax(min = s1_lmin, max = s1_lmax)\n",
    "    \n",
    "s1_selected_splits = select_peaks  (indices_split, time, length)\n",
    "\n",
    "print(\"Number of S1 candidates:\", len(s1_selected_splits))"
   ]
  },
  {
   "cell_type": "code",
   "execution_count": 15,
   "metadata": {},
   "outputs": [
    {
     "name": "stdout",
     "output_type": "stream",
     "text": [
      "Number of S2 candidates: 1\n"
     ]
    }
   ],
   "source": [
    "indices_split   = split_in_peaks(s2_indices, s2_stride)\n",
    "    \n",
    "time    = minmax(min = s2_tmin, max = s2_tmax)\n",
    "length  = minmax(min = s2_lmin, max = s2_lmax)\n",
    "    \n",
    "s2_selected_splits = select_peaks  (indices_split, time, length)\n",
    "\n",
    "print(\"Number of S2 candidates:\", len(s2_selected_splits))"
   ]
  },
  {
   "cell_type": "markdown",
   "metadata": {},
   "source": [
    "### S1 and S2 cuts"
   ]
  },
  {
   "cell_type": "code",
   "execution_count": 16,
   "metadata": {},
   "outputs": [],
   "source": [
    "# S1 cuts\n",
    "if len(s1_selected_splits)==0:\n",
    "    raise Exception(\"No S1 in event\")\n",
    "    \n",
    "s1es, s1ws = [], []\n",
    "for ss in s1_selected_splits:\n",
    "    s1_pmt = np.sum( pmt_ccwfs[:, ss[0]: ss[-1]], axis=0)\n",
    "    s1es.append( np.sum(s1_pmt)    )\n",
    "    s1ws.append( (ss[-1]-ss[0])*25 )\n",
    "s1es, s1ws = np.array(s1es), np.array(s1ws)\n",
    "\n",
    "sel = (s1es>=s1emin) & (s1ws>=s1wmin)\n",
    "idxs = np.argwhere(sel).flatten()\n",
    "\n",
    "if len(idxs)==0:\n",
    "    raise Exception(\"No S1 pass the cut\")\n",
    "elif len(idxs)>1:\n",
    "    raise Exception(\"More than 1S1 pass the cut\")\n",
    "else:\n",
    "    idx = idxs[0]\n",
    "    s1_pmt = np.sum( pmt_ccwfs[:, s1_selected_splits[idx][0]: s1_selected_splits[idx][-1]], axis=0)\n",
    "    times  = np.arange(s1_selected_splits[idx][0], s1_selected_splits[idx][-1])*25\n",
    "\n",
    "    S1_time = times[np.argmax(s1_pmt)]\n",
    "    \n",
    "# S2 cut\n",
    "if len(s2_selected_splits)>1:\n",
    "    raise Exception(\"More that 1S2\")"
   ]
  },
  {
   "cell_type": "markdown",
   "metadata": {},
   "source": [
    "### Select and process S2 RWFs"
   ]
  },
  {
   "cell_type": "code",
   "execution_count": 17,
   "metadata": {},
   "outputs": [],
   "source": [
    "times  = np.arange     (pmt_ccwfs.shape[1]) * 25 * units.ns\n",
    "widths = np.full       (pmt_ccwfs.shape[1],   25 * units.ns)\n",
    "\n",
    "indices = s2_selected_splits[0]\n",
    "wfs     = pmt_ccwfs\n",
    "\n",
    "with_sipms = True\n",
    "\n",
    "times, rebinned_widths, s2_pmts = pick_slice_and_rebin(indices, times, widths,\n",
    "                                                       wfs, \n",
    "                                                       rebin_stride = s2_rebin_stride, \n",
    "                                                       pad_zeros    = with_sipms)"
   ]
  },
  {
   "cell_type": "code",
   "execution_count": 36,
   "metadata": {},
   "outputs": [],
   "source": [
    "s2_sipms = sipm_cwfs[:, s2_selected_splits[0][0] //40 : s2_selected_splits[0][-1]//40 + 1]\n",
    "\n",
    "########## ADD PES TO PHOTON CONVERSION HERE ############\n",
    "s2_sipms = pes_to_photons(s2_sipms)\n",
    "\n",
    "# thr_sipm_s2\n",
    "sipm_ids, s2_sipms = select_wfs_above_time_integrated_thr(s2_sipms, thr_sipm_s2)"
   ]
  },
  {
   "cell_type": "code",
   "execution_count": 37,
   "metadata": {},
   "outputs": [],
   "source": [
    "#float32\n",
    "s2_pmts  = np.float32( s2_pmts )\n",
    "s2_sipms = np.float32( s2_sipms)\n",
    "times    = np.float32( times   )\n",
    "\n",
    "#pmt ids\n",
    "c = np.zeros(s2_pmts.shape[0])\n",
    "c[pmt_ids] = 1\n",
    "s2_pmts  = np.multiply( c, s2_pmts.T ).T"
   ]
  },
  {
   "cell_type": "markdown",
   "metadata": {},
   "source": [
    "# PENTHESILEA"
   ]
  },
  {
   "cell_type": "code",
   "execution_count": 38,
   "metadata": {},
   "outputs": [],
   "source": [
    "qth = 5 * pes\n",
    "\n",
    "rebin = 2"
   ]
  },
  {
   "cell_type": "markdown",
   "metadata": {},
   "source": [
    "## PMT RWFs Rebinning"
   ]
  },
  {
   "cell_type": "code",
   "execution_count": 39,
   "metadata": {},
   "outputs": [],
   "source": [
    "# Rebin\n",
    "\n",
    "_, _, s2_sipms    = rebin_times_and_waveforms(times, rebinned_widths, s2_sipms,\n",
    "                                              rebin_stride=rebin, slices=None)\n",
    "\n",
    "times, _, s2_pmts = rebin_times_and_waveforms(times, rebinned_widths, s2_pmts,\n",
    "                                              rebin_stride=rebin, slices=None)"
   ]
  },
  {
   "cell_type": "markdown",
   "metadata": {},
   "source": [
    "### Charge cut"
   ]
  },
  {
   "cell_type": "code",
   "execution_count": 18,
   "metadata": {},
   "outputs": [],
   "source": [
    "s2_pmts_penth = np.copy( s2_pmts )\n",
    "\n",
    "sel = (s2_sipms >= qth)\n",
    "s2_sipms_penth = np.where(sel, s2_sipms, 0)\n",
    "\n",
    "no_pass_cut_slices = ~sel.any(axis=0)"
   ]
  },
  {
   "cell_type": "markdown",
   "metadata": {},
   "source": [
    "### Create hits"
   ]
  },
  {
   "cell_type": "code",
   "execution_count": 19,
   "metadata": {},
   "outputs": [],
   "source": [
    "datasipm = load_db.DataSiPM(\"new\", run)\n",
    "sipm_xs  = datasipm.X.values\n",
    "sipm_ys  = datasipm.Y.values\n",
    "n_sipms = len(sipm_ids)\n",
    "\n",
    "X, Y = sipm_xs[sipm_ids], sipm_ys[sipm_ids]\n",
    "T = (times - S1_time)/1000"
   ]
  },
  {
   "cell_type": "code",
   "execution_count": 20,
   "metadata": {},
   "outputs": [],
   "source": [
    "E_per_slice = np.sum( s2_pmts_penth, axis=0)\n",
    "\n",
    "hits = []\n",
    "nn_hits = []\n",
    "for t, e, q in zip(T, E_per_slice, s2_sipms_penth.T):\n",
    "    if np.sum(q)==0:\n",
    "        nn_hits.append( (0, 0, t, e, NN, -1) )\n",
    "    else:\n",
    "        E = e * q / np.sum(q)\n",
    "        hits.append( (X, Y, np.full( n_sipms, t), E, q, np.full( n_sipms, -1) ) )\n",
    "\n",
    "hits = np.array( hits )\n",
    "hits = np.swapaxes(hits, axis1=1, axis2=2)\n",
    "hits = np.concatenate( hits )"
   ]
  },
  {
   "cell_type": "code",
   "execution_count": 21,
   "metadata": {},
   "outputs": [],
   "source": [
    "H = np.array(np.zeros(np.shape(hits)[0]), \n",
    "             dtype=[(\"X\", int)  , (\"Y\", int)  , (\"Z\", float), \n",
    "                    (\"E\", float), (\"Q\", float), (\"Ec\",float)])\n",
    "\n",
    "H[\"X\"] = hits[:, 0]\n",
    "H[\"Y\"] = hits[:, 1]\n",
    "H[\"Z\"] = hits[:, 2]\n",
    "H[\"E\"] = hits[:, 3]\n",
    "H[\"Q\"] = hits[:, 4]\n",
    "H[\"Ec\"] = -1\n",
    "\n",
    "#remove 0 charge hits and insert NN\n",
    "sel = ~(H[\"Q\"]==0)\n",
    "H = np.insert( H[sel], 0, nn_hits)\n",
    "H = np.sort( H, order=\"Z\")\n",
    "\n",
    "hits = H"
   ]
  },
  {
   "cell_type": "markdown",
   "metadata": {},
   "source": [
    "# ESMERALDA"
   ]
  },
  {
   "cell_type": "code",
   "execution_count": 22,
   "metadata": {},
   "outputs": [],
   "source": [
    "qth = 30"
   ]
  },
  {
   "cell_type": "code",
   "execution_count": 23,
   "metadata": {},
   "outputs": [],
   "source": [
    "sel = (hits[\"Q\"]>=qth)\n",
    "hits[\"Q\"][~sel] = 0\n",
    "\n",
    "slides = np.unique( hits[\"Z\"] )\n",
    "for slide in slides:\n",
    "    sel = (hits[\"Z\"]==slide)\n",
    "    slide_hits = hits[sel]\n",
    "    \n",
    "    q = slide_hits[\"Q\"]\n",
    "    e = slide_hits[\"E\"]\n",
    "    \n",
    "    if np.sum( q ) == 0:\n",
    "        idxs = np.argwhere(sel).flatten()\n",
    "        hits = np.delete(hits, idxs)\n",
    "        hits = np.insert(hits, 0, (0, 0, slide, np.sum(e), NN, -1))\n",
    "        \n",
    "    else:\n",
    "        hits[\"E\"][sel] = np.sum( e ) * q / np.sum(q)\n",
    "        \n",
    "sel = (hits[\"Q\"]==0)\n",
    "hits = np.delete( hits, np.argwhere(sel))\n",
    "hits = np.sort(hits, order=\"Z\")"
   ]
  },
  {
   "cell_type": "code",
   "execution_count": 24,
   "metadata": {},
   "outputs": [],
   "source": [
    "# JOIN NN hits\n",
    "\n",
    "sel = (hits[\"Q\"]==NN)\n",
    "\n",
    "nn_hits = hits[ sel]\n",
    "hits    = hits[~sel]\n",
    "\n",
    "slides = np.unique( hits[\"Z\"] )\n",
    "\n",
    "for nn_hit in nn_hits:\n",
    "    \n",
    "    #select slide to append\n",
    "    d = np.abs( slides - nn_hit[\"Z\"] ) \n",
    "    \n",
    "    slide = slides[ np.argmin( d ) ]\n",
    "    slide_hits = hits[hits[\"Z\"]==slide]\n",
    "    \n",
    "    #new energy \n",
    "    new_E = np.sum(slide_hits[\"E\"]) + nn_hit[\"E\"]\n",
    "    \n",
    "    q = hits[hits[\"Z\"]==slide][\"Q\"]\n",
    "    Q = np.sum( q )\n",
    "    \n",
    "    hits[\"E\"][hits[\"Z\"] == slide] = new_E * q / Q"
   ]
  },
  {
   "cell_type": "markdown",
   "metadata": {},
   "source": [
    "### Corrections"
   ]
  },
  {
   "cell_type": "code",
   "execution_count": 25,
   "metadata": {},
   "outputs": [],
   "source": [
    "map_file = glob.glob( f\"/home/gdiaz/Verify_IRENENB_corrections/DATA/{run}/map_*\")[0]\n",
    "maps = read_maps( map_file )\n",
    "\n",
    "total_correction = apply_all_correction(maps, apply_temp=True,\n",
    "                                        norm_strat=norm_strategy.kr)"
   ]
  },
  {
   "cell_type": "code",
   "execution_count": 26,
   "metadata": {},
   "outputs": [],
   "source": [
    "X = hits[\"X\"]\n",
    "Y = hits[\"Y\"]\n",
    "Z = hits[\"Z\"]\n",
    "E = hits[\"E\"]\n",
    "Q = hits[\"Q\"]\n",
    "\n",
    "T = np.full(len(hits), event_time[-1]/1000)\n",
    "\n",
    "correction_factor = total_correction(X, Y, Z, T)\n",
    "Ec = correction_factor * E\n",
    "\n",
    "hits[\"Ec\"] = Ec\n",
    "hits[\"Z\"]  = Z * maps.t_evol.dv.mean()"
   ]
  },
  {
   "cell_type": "code",
   "execution_count": 27,
   "metadata": {},
   "outputs": [
    {
     "data": {
      "text/plain": [
       "array([(-15,  5, 56.3077694 , 1459.46229362,  53.51047134, 0.00513337),\n",
       "       (-15, 15, 56.3077694 , 2808.14779709, 102.95936584, 0.00969686),\n",
       "       (-15, 25, 56.3077694 ,  851.12841845,  31.20620728, 0.00290031),\n",
       "       ( -5,  5, 56.3077694 , 3051.88216362, 111.89576721, 0.01062303),\n",
       "       ( -5, 15, 56.3077694 , 9761.22727589, 357.890625  , 0.03370595),\n",
       "       ( -5, 25, 56.3077694 , 2333.52487593,  85.55754852, 0.00806828),\n",
       "       (  5,  5, 56.3077694 , 1394.58910187,  51.13192749, 0.00481316),\n",
       "       (  5, 15, 56.3077694 , 2722.43733044,  99.8168335 , 0.00942123),\n",
       "       (  5, 25, 56.3077694 ,  978.0866492 ,  35.86106873, 0.00341159),\n",
       "       (-15,  5, 57.76089801, 1527.28085675,  72.25067139, 0.00537295),\n",
       "       (-15, 15, 57.76089801, 3092.30135755, 146.28668213, 0.01068075),\n",
       "       (-15, 25, 57.76089801,  879.95729231,  41.6279068 , 0.00299939),\n",
       "       ( -5,  5, 57.76089801, 3331.092243  , 157.58309937, 0.01159767),\n",
       "       ( -5, 15, 57.76089801, 8882.13895798, 420.18499756, 0.03067756),\n",
       "       ( -5, 25, 57.76089801, 2214.31436211, 104.75198364, 0.00765792),\n",
       "       (  5,  5, 57.76089801, 1301.78225815,  61.58306885, 0.00449399),\n",
       "       (  5, 15, 57.76089801, 2313.04563698, 109.42263794, 0.00800635),\n",
       "       (  5, 25, 57.76089801, 1023.31231594,  48.40956497, 0.00357013),\n",
       "       (-15,  5, 59.81983911, 1758.84833666,  73.00027466, 0.00618932),\n",
       "       (-15, 15, 59.81983911, 1817.23818709,  75.42372131, 0.00627893),\n",
       "       ( -5,  5, 59.81983911, 2494.81346262, 103.54620361, 0.00868897),\n",
       "       ( -5, 15, 59.81983911, 4790.97136239, 198.84729004, 0.01655275),\n",
       "       ( -5, 25, 59.81983911,  914.7188096 ,  37.96502686, 0.0031645 ),\n",
       "       (  5, 15, 59.81983911, 1035.00929842,  42.95763397, 0.00358375),\n",
       "       (-15,  5, 61.44754205, 2475.3628289 , 104.88744354, 0.00871261),\n",
       "       (-15, 15, 61.44754205, 2552.29479343, 108.14724731, 0.00882118),\n",
       "       ( -5,  5, 61.44754205, 3045.96375765, 129.06526184, 0.01061135),\n",
       "       ( -5, 15, 61.44754205, 4266.58143985, 180.78594971, 0.01474483),\n",
       "       (-15,  5, 63.35760039, 2152.37838456,  64.69692993, 0.00757773),\n",
       "       (-15, 15, 63.35760039, 1885.25211955,  56.66755676, 0.00651791),\n",
       "       ( -5,  5, 63.35760039, 2095.07355092,  62.97444153, 0.00730098),\n",
       "       ( -5, 15, 63.35760039, 2013.12614128,  60.5112381 , 0.00695927)],\n",
       "      dtype=[('X', '<i8'), ('Y', '<i8'), ('Z', '<f8'), ('E', '<f8'), ('Q', '<f8'), ('Ec', '<f8')])"
      ]
     },
     "execution_count": 27,
     "metadata": {},
     "output_type": "execute_result"
    }
   ],
   "source": [
    "hits"
   ]
  },
  {
   "cell_type": "code",
   "execution_count": null,
   "metadata": {},
   "outputs": [],
   "source": []
  },
  {
   "cell_type": "code",
   "execution_count": null,
   "metadata": {},
   "outputs": [],
   "source": []
  },
  {
   "cell_type": "markdown",
   "metadata": {},
   "source": [
    "# CDSTs from production"
   ]
  },
  {
   "cell_type": "code",
   "execution_count": 28,
   "metadata": {},
   "outputs": [],
   "source": [
    "datadir = f\"/home/gdiaz/Verify_IRENENB_corrections/DATA/{run}/cdst/\"\n",
    "\n",
    "files = glob.glob( datadir + \"/*\")\n",
    "files.sort()\n",
    "\n",
    "h5file = tb.open_file( files[0] )"
   ]
  },
  {
   "cell_type": "code",
   "execution_count": 29,
   "metadata": {},
   "outputs": [],
   "source": [
    "# event_time = h5file.root.Run.events.read()\n",
    "\n",
    "#chits   = h5file.root.CHITS.lowTh.read()\n",
    "chits_hTh   = h5file.root.CHITS.highTh.read()\n",
    "\n",
    "#tracks  = h5file.root.Tracking.Tracks.read()\n",
    "dst     = h5file.root.DST    .Events.read()\n",
    "summary = h5file.root.Summary.Events.read()"
   ]
  },
  {
   "cell_type": "code",
   "execution_count": 30,
   "metadata": {},
   "outputs": [],
   "source": [
    "chits = np.sort( chits_hTh[chits_hTh[\"event\"]==event_time[0]], order=\"Z\")"
   ]
  },
  {
   "cell_type": "code",
   "execution_count": 31,
   "metadata": {},
   "outputs": [
    {
     "name": "stdout",
     "output_type": "stream",
     "text": [
      "HITS are equal\n"
     ]
    }
   ],
   "source": [
    "x = (hits[\"X\"] == chits[\"X\"]).all()\n",
    "y = (hits[\"Y\"] == chits[\"Y\"]).all()\n",
    "z = np.allclose(hits[\"Z\"], chits[\"Z\"])\n",
    "\n",
    "e  = np.allclose(hits[\"E\"], chits[\"E\"])\n",
    "q  = (hits[\"Q\"]  == chits[\"Q\"] ).all()\n",
    "ec = (hits[\"Ec\"] == chits[\"Ec\"]).all()\n",
    "\n",
    "if x & y & z & e & q:\n",
    "    print(\"HITS are equal\")\n",
    "else:\n",
    "    print(\"HITS are different\")"
   ]
  },
  {
   "cell_type": "code",
   "execution_count": 32,
   "metadata": {},
   "outputs": [
    {
     "data": {
      "text/plain": [
       "array([(-15.,  5., 56.30779237, 1459.46229376,  53.51047134, 0.00513337),\n",
       "       (-15., 15., 56.30779237, 2808.14779735, 102.95936584, 0.00969686),\n",
       "       (-15., 25., 56.30779237,  851.12841853,  31.20620728, 0.00290031),\n",
       "       ( -5.,  5., 56.30779237, 3051.88216391, 111.89576721, 0.01062303),\n",
       "       ( -5., 15., 56.30779237, 9761.22727681, 357.890625  , 0.03370595),\n",
       "       ( -5., 25., 56.30779237, 2333.52487615,  85.55754852, 0.00806828),\n",
       "       (  5.,  5., 56.30779237, 1394.589102  ,  51.13192749, 0.00481316),\n",
       "       (  5., 15., 56.30779237, 2722.4373307 ,  99.8168335 , 0.00942123),\n",
       "       (  5., 25., 56.30779237,  978.08664929,  35.86106873, 0.00341159),\n",
       "       (-15.,  5., 57.76087828, 1527.28085295,  72.25067139, 0.00537295),\n",
       "       (-15., 15., 57.76087828, 3092.30134986, 146.28668213, 0.01068075),\n",
       "       (-15., 25., 57.76087828,  879.95729012,  41.6279068 , 0.00299939),\n",
       "       ( -5.,  5., 57.76087828, 3331.09223472, 157.58309937, 0.01159767),\n",
       "       ( -5., 15., 57.76087828, 8882.13893591, 420.18499756, 0.03067756),\n",
       "       ( -5., 25., 57.76087828, 2214.31435661, 104.75198364, 0.00765792),\n",
       "       (  5.,  5., 57.76087828, 1301.78225492,  61.58306885, 0.00449399),\n",
       "       (  5., 15., 57.76087828, 2313.04563123, 109.42263794, 0.00800635),\n",
       "       (  5., 25., 57.76087828, 1023.3123134 ,  48.40956497, 0.00357013),\n",
       "       (-15.,  5., 59.8199016 , 1758.84836599,  73.00027466, 0.00618932),\n",
       "       (-15., 15., 59.8199016 , 1817.23821739,  75.42372131, 0.00627893),\n",
       "       ( -5.,  5., 59.8199016 , 2494.81350422, 103.54620361, 0.00868897),\n",
       "       ( -5., 15., 59.8199016 , 4790.97144228, 198.84729004, 0.01655275),\n",
       "       ( -5., 25., 59.8199016 ,  914.71882485,  37.96502686, 0.0031645 ),\n",
       "       (  5., 15., 59.8199016 , 1035.00931568,  42.95763397, 0.00358375),\n",
       "       (-15.,  5., 61.44756321, 2475.36281665, 104.88744354, 0.00871261),\n",
       "       (-15., 15., 61.44756321, 2552.29478081, 108.14724731, 0.00882118),\n",
       "       ( -5.,  5., 61.44756321, 3045.96374258, 129.06526184, 0.01061135),\n",
       "       ( -5., 15., 61.44756321, 4266.58141875, 180.78594971, 0.01474483),\n",
       "       (-15.,  5., 63.35762667, 2152.3783939 ,  64.69692993, 0.00757773),\n",
       "       (-15., 15., 63.35762667, 1885.25212773,  56.66755676, 0.00651791),\n",
       "       ( -5.,  5., 63.35762667, 2095.07356001,  62.97444153, 0.00730098),\n",
       "       ( -5., 15., 63.35762667, 2013.12615001,  60.5112381 , 0.00695927)],\n",
       "      dtype={'names':['X','Y','Z','E','Q','Ec'], 'formats':['<f8','<f8','<f8','<f8','<f8','<f8'], 'offsets':[32,40,64,80,72,96], 'itemsize':116})"
      ]
     },
     "execution_count": 32,
     "metadata": {},
     "output_type": "execute_result"
    }
   ],
   "source": [
    "chits[[\"X\", \"Y\", \"Z\", \"E\", \"Q\", \"Ec\"]]"
   ]
  },
  {
   "cell_type": "code",
   "execution_count": null,
   "metadata": {},
   "outputs": [],
   "source": []
  },
  {
   "cell_type": "code",
   "execution_count": null,
   "metadata": {},
   "outputs": [],
   "source": []
  },
  {
   "cell_type": "code",
   "execution_count": 33,
   "metadata": {},
   "outputs": [
    {
     "data": {
      "text/plain": [
       "(-15., 15., 57.76087828, 3092.30134986, 146.28668213, 0.01068075)"
      ]
     },
     "execution_count": 33,
     "metadata": {},
     "output_type": "execute_result"
    }
   ],
   "source": [
    "i=10\n",
    "chits[[\"X\", \"Y\", \"Z\", \"E\", \"Q\", \"Ec\"]][i]"
   ]
  },
  {
   "cell_type": "code",
   "execution_count": 34,
   "metadata": {},
   "outputs": [
    {
     "data": {
      "text/plain": [
       "(-15, 15, 57.76089801, 3092.30135755, 146.28668213, 0.01068075)"
      ]
     },
     "execution_count": 34,
     "metadata": {},
     "output_type": "execute_result"
    }
   ],
   "source": [
    "hits[i]"
   ]
  },
  {
   "cell_type": "code",
   "execution_count": null,
   "metadata": {},
   "outputs": [],
   "source": []
  },
  {
   "cell_type": "code",
   "execution_count": null,
   "metadata": {},
   "outputs": [],
   "source": []
  },
  {
   "cell_type": "code",
   "execution_count": null,
   "metadata": {},
   "outputs": [],
   "source": []
  },
  {
   "cell_type": "code",
   "execution_count": null,
   "metadata": {},
   "outputs": [],
   "source": []
  }
 ],
 "metadata": {
  "kernelspec": {
   "display_name": "Python 3",
   "language": "python",
   "name": "python3"
  },
  "language_info": {
   "codemirror_mode": {
    "name": "ipython",
    "version": 3
   },
   "file_extension": ".py",
   "mimetype": "text/x-python",
   "name": "python",
   "nbconvert_exporter": "python",
   "pygments_lexer": "ipython3",
   "version": "3.7.4"
  }
 },
 "nbformat": 4,
 "nbformat_minor": 2
}
